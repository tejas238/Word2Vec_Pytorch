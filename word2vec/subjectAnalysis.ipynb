{
 "metadata": {
  "language_info": {
   "codemirror_mode": {
    "name": "ipython",
    "version": 3
   },
   "file_extension": ".py",
   "mimetype": "text/x-python",
   "name": "python",
   "nbconvert_exporter": "python",
   "pygments_lexer": "ipython3",
   "version": "3.8.5-final"
  },
  "orig_nbformat": 2,
  "kernelspec": {
   "name": "python_defaultSpec_1598294405437",
   "display_name": "Python 3.8.5 64-bit"
  }
 },
 "nbformat": 4,
 "nbformat_minor": 2,
 "cells": [
  {
   "cell_type": "code",
   "execution_count": 1,
   "metadata": {},
   "outputs": [],
   "source": [
    "import torch"
   ]
  },
  {
   "cell_type": "code",
   "execution_count": 12,
   "metadata": {},
   "outputs": [],
   "source": [
    "the_model = torch.load('../CBOW_F_FullyTrained.obj')\n",
    "import torch.nn.functional as F\n",
    "from torch.utils.tensorboard import SummaryWriter\n",
    "\n",
    "world = ['America', 'city', 'country', 'Asia', 'Europe', 'China']\n",
    "lifestyle = ['phone', 'shop', 'mall', 'play', 'hobby', 'life', 'food']\n",
    "academics = ['physics', 'science', 'mathematics', 'chemistry', 'law']\n",
    "nature = ['grass', 'trees', 'green', 'leaves', 'sun', 'snow']\n",
    "\n",
    "sentences =[('Delhi', world),\n",
    "            ('Washington', world),\n",
    "            ('Paris', world),\n",
    "            ('party', lifestyle),\n",
    "            ('India', world),\n",
    "            ('eat', lifestyle),\n",
    "            ('swim', lifestyle),\n",
    "            ('flag', world),\n",
    "            ('sports', lifestyle),\n",
    "            ('concept', academics),\n",
    "            ('experiment', academics),\n",
    "            ('sing', lifestyle),\n",
    "            ('Nobel', academics),\n",
    "            ('photosynthesis', nature),\n",
    "            ('weather', nature),\n",
    "            ('mountain', nature),\n",
    "            ('garden', nature),\n",
    "            ('birds', nature),\n",
    "            ('lawn', nature),\n",
    "            ('noodles', lifestyle),\n",
    "            ('dinner', lifestyle),\n",
    "            ('study', academics),\n",
    "            ('university', academics),\n",
    "            ('driving', lifestyle)]\n",
    "            #('scientist', academics)]\n",
    "\n"
   ]
  },
  {
   "cell_type": "code",
   "execution_count": 13,
   "metadata": {
    "tags": []
   },
   "outputs": [
    {
     "output_type": "stream",
     "name": "stdout",
     "text": "sentence  1 :  Delhi\nPredicted subject: Asia\nActual subject(s): ['America', 'city', 'country', 'Asia', 'Europe', 'China'] \n\nsentence  2 :  Washington\nPredicted subject: Asia\nActual subject(s): ['America', 'city', 'country', 'Asia', 'Europe', 'China'] \n\nsentence  3 :  Paris\nPredicted subject: Asia\nActual subject(s): ['America', 'city', 'country', 'Asia', 'Europe', 'China'] \n\nsentence  4 :  party\nPredicted subject: Asia\nActual subject(s): ['phone', 'shop', 'mall', 'play', 'hobby', 'life', 'food'] \n\nsentence  5 :  India\nPredicted subject: chemistry\nActual subject(s): ['America', 'city', 'country', 'Asia', 'Europe', 'China'] \n\nsentence  6 :  eat\nPredicted subject: play\nActual subject(s): ['phone', 'shop', 'mall', 'play', 'hobby', 'life', 'food'] \n\nsentence  7 :  swim\nPredicted subject: mall\nActual subject(s): ['phone', 'shop', 'mall', 'play', 'hobby', 'life', 'food'] \n\nsentence  8 :  flag\nPredicted subject: shop\nActual subject(s): ['America', 'city', 'country', 'Asia', 'Europe', 'China'] \n\nsentence  9 :  sports\nPredicted subject: Asia\nActual subject(s): ['phone', 'shop', 'mall', 'play', 'hobby', 'life', 'food'] \n\nsentence  10 :  concept\nPredicted subject: mathematics\nActual subject(s): ['physics', 'science', 'mathematics', 'chemistry', 'law'] \n\nsentence  11 :  experiment\nPredicted subject: chemistry\nActual subject(s): ['physics', 'science', 'mathematics', 'chemistry', 'law'] \n\nsentence  12 :  sing\nPredicted subject: mall\nActual subject(s): ['phone', 'shop', 'mall', 'play', 'hobby', 'life', 'food'] \n\nsentence  13 :  Nobel\nPredicted subject: life\nActual subject(s): ['physics', 'science', 'mathematics', 'chemistry', 'law'] \n\nsentence  14 :  photosynthesis\nPredicted subject: chemistry\nActual subject(s): ['grass', 'trees', 'green', 'leaves', 'sun', 'snow'] \n\nsentence  15 :  weather\nPredicted subject: chemistry\nActual subject(s): ['grass', 'trees', 'green', 'leaves', 'sun', 'snow'] \n\nsentence  16 :  mountain\nPredicted subject: trees\nActual subject(s): ['grass', 'trees', 'green', 'leaves', 'sun', 'snow'] \n\nsentence  17 :  garden\nPredicted subject: shop\nActual subject(s): ['grass', 'trees', 'green', 'leaves', 'sun', 'snow'] \n\nsentence  18 :  birds\nPredicted subject: snow\nActual subject(s): ['grass', 'trees', 'green', 'leaves', 'sun', 'snow'] \n\nsentence  19 :  lawn\nPredicted subject: grass\nActual subject(s): ['grass', 'trees', 'green', 'leaves', 'sun', 'snow'] \n\n"
    },
    {
     "output_type": "error",
     "ename": "RuntimeError",
     "evalue": "Expected tensor for argument #1 'indices' to have scalar type Long; but got torch.FloatTensor instead (while checking arguments for embedding)",
     "traceback": [
      "\u001b[0;31m---------------------------------------------------------------------------\u001b[0m",
      "\u001b[0;31mRuntimeError\u001b[0m                              Traceback (most recent call last)",
      "\u001b[0;32m<ipython-input-13-3dc8bfd58a98>\u001b[0m in \u001b[0;36m<module>\u001b[0;34m\u001b[0m\n\u001b[1;32m     14\u001b[0m     \u001b[0msen_arr\u001b[0m \u001b[0;34m=\u001b[0m \u001b[0msen\u001b[0m\u001b[0;34m[\u001b[0m\u001b[0;36m0\u001b[0m\u001b[0;34m]\u001b[0m\u001b[0;34m.\u001b[0m\u001b[0msplit\u001b[0m\u001b[0;34m(\u001b[0m\u001b[0;34m)\u001b[0m\u001b[0;34m\u001b[0m\u001b[0;34m\u001b[0m\u001b[0m\n\u001b[1;32m     15\u001b[0m     \u001b[0msen_arr\u001b[0m \u001b[0;34m=\u001b[0m \u001b[0mtorch\u001b[0m\u001b[0;34m.\u001b[0m\u001b[0mtensor\u001b[0m\u001b[0;34m(\u001b[0m\u001b[0;34m[\u001b[0m\u001b[0mword2id\u001b[0m\u001b[0;34m[\u001b[0m\u001b[0mw\u001b[0m\u001b[0;34m]\u001b[0m \u001b[0;32mfor\u001b[0m \u001b[0mw\u001b[0m \u001b[0;32min\u001b[0m \u001b[0msen_arr\u001b[0m \u001b[0;32mif\u001b[0m \u001b[0mw\u001b[0m \u001b[0;32min\u001b[0m \u001b[0mword2id\u001b[0m\u001b[0;34m]\u001b[0m\u001b[0;34m)\u001b[0m\u001b[0;34m\u001b[0m\u001b[0;34m\u001b[0m\u001b[0m\n\u001b[0;32m---> 16\u001b[0;31m     \u001b[0msen_arr\u001b[0m \u001b[0;34m=\u001b[0m \u001b[0mu_embeddings\u001b[0m\u001b[0;34m(\u001b[0m\u001b[0msen_arr\u001b[0m\u001b[0;34m)\u001b[0m\u001b[0;34m.\u001b[0m\u001b[0msqueeze\u001b[0m\u001b[0;34m(\u001b[0m\u001b[0;34m)\u001b[0m\u001b[0;34m\u001b[0m\u001b[0;34m\u001b[0m\u001b[0m\n\u001b[0m\u001b[1;32m     17\u001b[0m     \u001b[0;31m#sen_arr = torch.sum(sen_arr, dim=0)\u001b[0m\u001b[0;34m\u001b[0m\u001b[0;34m\u001b[0m\u001b[0;34m\u001b[0m\u001b[0m\n\u001b[1;32m     18\u001b[0m \u001b[0;34m\u001b[0m\u001b[0m\n",
      "\u001b[0;32m/Library/Frameworks/Python.framework/Versions/3.8/lib/python3.8/site-packages/torch/nn/modules/module.py\u001b[0m in \u001b[0;36m_call_impl\u001b[0;34m(self, *input, **kwargs)\u001b[0m\n\u001b[1;32m    720\u001b[0m             \u001b[0mresult\u001b[0m \u001b[0;34m=\u001b[0m \u001b[0mself\u001b[0m\u001b[0;34m.\u001b[0m\u001b[0m_slow_forward\u001b[0m\u001b[0;34m(\u001b[0m\u001b[0;34m*\u001b[0m\u001b[0minput\u001b[0m\u001b[0;34m,\u001b[0m \u001b[0;34m**\u001b[0m\u001b[0mkwargs\u001b[0m\u001b[0;34m)\u001b[0m\u001b[0;34m\u001b[0m\u001b[0;34m\u001b[0m\u001b[0m\n\u001b[1;32m    721\u001b[0m         \u001b[0;32melse\u001b[0m\u001b[0;34m:\u001b[0m\u001b[0;34m\u001b[0m\u001b[0;34m\u001b[0m\u001b[0m\n\u001b[0;32m--> 722\u001b[0;31m             \u001b[0mresult\u001b[0m \u001b[0;34m=\u001b[0m \u001b[0mself\u001b[0m\u001b[0;34m.\u001b[0m\u001b[0mforward\u001b[0m\u001b[0;34m(\u001b[0m\u001b[0;34m*\u001b[0m\u001b[0minput\u001b[0m\u001b[0;34m,\u001b[0m \u001b[0;34m**\u001b[0m\u001b[0mkwargs\u001b[0m\u001b[0;34m)\u001b[0m\u001b[0;34m\u001b[0m\u001b[0;34m\u001b[0m\u001b[0m\n\u001b[0m\u001b[1;32m    723\u001b[0m         for hook in itertools.chain(\n\u001b[1;32m    724\u001b[0m                 \u001b[0m_global_forward_hooks\u001b[0m\u001b[0;34m.\u001b[0m\u001b[0mvalues\u001b[0m\u001b[0;34m(\u001b[0m\u001b[0;34m)\u001b[0m\u001b[0;34m,\u001b[0m\u001b[0;34m\u001b[0m\u001b[0;34m\u001b[0m\u001b[0m\n",
      "\u001b[0;32m/Library/Frameworks/Python.framework/Versions/3.8/lib/python3.8/site-packages/torch/nn/modules/sparse.py\u001b[0m in \u001b[0;36mforward\u001b[0;34m(self, input)\u001b[0m\n\u001b[1;32m    122\u001b[0m \u001b[0;34m\u001b[0m\u001b[0m\n\u001b[1;32m    123\u001b[0m     \u001b[0;32mdef\u001b[0m \u001b[0mforward\u001b[0m\u001b[0;34m(\u001b[0m\u001b[0mself\u001b[0m\u001b[0;34m,\u001b[0m \u001b[0minput\u001b[0m\u001b[0;34m:\u001b[0m \u001b[0mTensor\u001b[0m\u001b[0;34m)\u001b[0m \u001b[0;34m->\u001b[0m \u001b[0mTensor\u001b[0m\u001b[0;34m:\u001b[0m\u001b[0;34m\u001b[0m\u001b[0;34m\u001b[0m\u001b[0m\n\u001b[0;32m--> 124\u001b[0;31m         return F.embedding(\n\u001b[0m\u001b[1;32m    125\u001b[0m             \u001b[0minput\u001b[0m\u001b[0;34m,\u001b[0m \u001b[0mself\u001b[0m\u001b[0;34m.\u001b[0m\u001b[0mweight\u001b[0m\u001b[0;34m,\u001b[0m \u001b[0mself\u001b[0m\u001b[0;34m.\u001b[0m\u001b[0mpadding_idx\u001b[0m\u001b[0;34m,\u001b[0m \u001b[0mself\u001b[0m\u001b[0;34m.\u001b[0m\u001b[0mmax_norm\u001b[0m\u001b[0;34m,\u001b[0m\u001b[0;34m\u001b[0m\u001b[0;34m\u001b[0m\u001b[0m\n\u001b[1;32m    126\u001b[0m             self.norm_type, self.scale_grad_by_freq, self.sparse)\n",
      "\u001b[0;32m/Library/Frameworks/Python.framework/Versions/3.8/lib/python3.8/site-packages/torch/nn/functional.py\u001b[0m in \u001b[0;36membedding\u001b[0;34m(input, weight, padding_idx, max_norm, norm_type, scale_grad_by_freq, sparse)\u001b[0m\n\u001b[1;32m   1812\u001b[0m         \u001b[0;31m# remove once script supports set_grad_enabled\u001b[0m\u001b[0;34m\u001b[0m\u001b[0;34m\u001b[0m\u001b[0;34m\u001b[0m\u001b[0m\n\u001b[1;32m   1813\u001b[0m         \u001b[0m_no_grad_embedding_renorm_\u001b[0m\u001b[0;34m(\u001b[0m\u001b[0mweight\u001b[0m\u001b[0;34m,\u001b[0m \u001b[0minput\u001b[0m\u001b[0;34m,\u001b[0m \u001b[0mmax_norm\u001b[0m\u001b[0;34m,\u001b[0m \u001b[0mnorm_type\u001b[0m\u001b[0;34m)\u001b[0m\u001b[0;34m\u001b[0m\u001b[0;34m\u001b[0m\u001b[0m\n\u001b[0;32m-> 1814\u001b[0;31m     \u001b[0;32mreturn\u001b[0m \u001b[0mtorch\u001b[0m\u001b[0;34m.\u001b[0m\u001b[0membedding\u001b[0m\u001b[0;34m(\u001b[0m\u001b[0mweight\u001b[0m\u001b[0;34m,\u001b[0m \u001b[0minput\u001b[0m\u001b[0;34m,\u001b[0m \u001b[0mpadding_idx\u001b[0m\u001b[0;34m,\u001b[0m \u001b[0mscale_grad_by_freq\u001b[0m\u001b[0;34m,\u001b[0m \u001b[0msparse\u001b[0m\u001b[0;34m)\u001b[0m\u001b[0;34m\u001b[0m\u001b[0;34m\u001b[0m\u001b[0m\n\u001b[0m\u001b[1;32m   1815\u001b[0m \u001b[0;34m\u001b[0m\u001b[0m\n\u001b[1;32m   1816\u001b[0m \u001b[0;34m\u001b[0m\u001b[0m\n",
      "\u001b[0;31mRuntimeError\u001b[0m: Expected tensor for argument #1 'indices' to have scalar type Long; but got torch.FloatTensor instead (while checking arguments for embedding)"
     ]
    }
   ],
   "source": [
    "writer = SummaryWriter('runs/analysis')\n",
    "word2id = the_model.word2id\n",
    "u_embeddings = the_model.u_embeddings\n",
    "\n",
    "emo_strings = world + lifestyle + academics + nature\n",
    "emo_strings = [w for w in emo_strings if w in word2id]\n",
    "emotions = torch.tensor([word2id[w] for w in emo_strings])\n",
    "emotions = u_embeddings(emotions)\n",
    "\n",
    "correct = 0\n",
    "emo_strings_score = [[0, 0] for w in emo_strings]\n",
    "\n",
    "for i, sen in enumerate(sentences):\n",
    "    sen_arr = sen[0].split()\n",
    "    sen_arr = torch.tensor([word2id[w] for w in sen_arr if w in word2id])\n",
    "    sen_arr = u_embeddings(sen_arr).squeeze()\n",
    "    #sen_arr = torch.sum(sen_arr, dim=0)\n",
    "\n",
    "    #score = F.logsigmoid(torch.matmul(emotions, sen_arr.unsqueeze(1)))\n",
    "    #score = torch.cdist(emotions, sen_arr.unsqueeze(0)).squeeze()\n",
    "\n",
    "    score = torch.stack([torch.dot(u,sen_arr)/(torch.norm(u)*torch.norm(sen_arr)) for u in emotions])\n",
    "    \n",
    "    pred_emo = emo_strings[torch.argmax(score)] #changed\n",
    "\n",
    "    print('sentence ', str(i+1), ': ', sen[0])\n",
    "    print('Predicted subject:', pred_emo)\n",
    "    print('Actual subject(s):', sen[1], '\\n')\n",
    "\n",
    "    if (pred_emo in sen[1]):\n",
    "        correct += 1\n",
    "        emo_strings_score[emo_strings.index(pred_emo)][0] += 1\n",
    "    else:\n",
    "        emo_strings_score[emo_strings.index(pred_emo)][1] += 1\n",
    "\n",
    "correct /= len(sentences)\n",
    "print('Accuracy:', correct*100, '%')\n",
    "\n",
    "emo_strings = [ w + ' H ' + str(emo_strings_score[i][0]) + ' M ' + str(emo_strings_score[i][1]) for i,w in enumerate(emo_strings)]\n",
    "\n",
    "writer.add_embedding(emotions, metadata=emo_strings)\n",
    "writer.close()\n",
    "%load_ext tensorboard\n",
    "\n",
    "emo_strings"
   ]
  },
  {
   "cell_type": "code",
   "execution_count": 7,
   "metadata": {
    "tags": []
   },
   "outputs": [],
   "source": [
    "%reload_ext tensorboard"
   ]
  }
 ]
}