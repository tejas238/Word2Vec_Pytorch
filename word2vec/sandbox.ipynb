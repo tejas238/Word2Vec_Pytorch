{
 "metadata": {
  "language_info": {
   "codemirror_mode": {
    "name": "ipython",
    "version": 3
   },
   "file_extension": ".py",
   "mimetype": "text/x-python",
   "name": "python",
   "nbconvert_exporter": "python",
   "pygments_lexer": "ipython3",
   "version": "3.8.5-final"
  },
  "orig_nbformat": 2,
  "kernelspec": {
   "name": "python_defaultSpec_1598253678273",
   "display_name": "Python 3.8.5 64-bit"
  }
 },
 "nbformat": 4,
 "nbformat_minor": 2,
 "cells": [
  {
   "cell_type": "code",
   "execution_count": 51,
   "metadata": {},
   "outputs": [],
   "source": [
    "import torch    "
   ]
  },
  {
   "cell_type": "code",
   "execution_count": 52,
   "metadata": {},
   "outputs": [],
   "source": [
    "the_model = torch.load('../CBOW_(F)_FullyTrained.obj')\n",
    "import torch.nn.functional as F\n",
    "from torch.utils.tensorboard import SummaryWriter\n"
   ]
  },
  {
   "cell_type": "code",
   "execution_count": null,
   "metadata": {},
   "outputs": [],
   "source": [
    "AllWords = []\n",
    "for line in open(\"../Sci-Fi_Novel.txt\"):\n",
    "    row = line.split(' ')\n",
    "    AllWords+=list(row)\n",
    "\n",
    "line_breaker=200\n",
    "i=1\n",
    "with open(\"../Sci-fi_Novel1.txt\", 'a') as file:\n",
    "    for word in AllWords:\n",
    "        if(\".\" in word or i==line_breaker):\n",
    "            file.write(word.strip('\\n')+\"\\n\")\n",
    "            i=0\n",
    "        else:\n",
    "            file.write(word.strip('\\n')+\" \")\n",
    "\n",
    "        i+=1"
   ]
  },
  {
   "cell_type": "code",
   "execution_count": 6,
   "metadata": {
    "tags": []
   },
   "outputs": [],
   "source": [
    "from gensim.models import Word2Vec\n",
    "\n",
    "model = Word2Vec(corpus_file='../brown.txt', size=100, window=5, min_count=1, workers=4)"
   ]
  },
  {
   "cell_type": "code",
   "execution_count": 33,
   "metadata": {},
   "outputs": [
    {
     "output_type": "execute_result",
     "data": {
      "text/plain": "[('liberalism', 0.8852040767669678),\n ('fate', 0.8743202686309814),\n ('Belanger', 0.8691195249557495),\n ('Temperatures', 0.867351770401001),\n ('strains', 0.8632405996322632),\n ('\"Observations\"', 0.8578510284423828),\n ('manager', 0.8565425872802734),\n ('1930s\",', 0.8532929420471191),\n ('endowment.', 0.852495014667511),\n ('Lowe', 0.8520345091819763)]"
     },
     "metadata": {},
     "execution_count": 33
    }
   ],
   "source": [
    "#model.train(corpus_file='../brown.txt', total_examples=model.corpus_count, #total_words=model.corpus_total_words, epochs=model.iter)\n",
    "model.predict_output_word(['death', 'angry', 'kill'])\n",
    "model.most_similar('death')"
   ]
  },
  {
   "cell_type": "code",
   "execution_count": null,
   "metadata": {
    "tags": []
   },
   "outputs": [],
   "source": [
    "import nltk\n",
    "from nltk.corpus import brown\n",
    "from sacremoses import MosesTokenizer, MosesDetokenizer\n",
    "\n",
    "mdetok = MosesDetokenizer()\n",
    "\n",
    "brown_natural = [mdetok.detokenize(' '.join(sent).replace('``', '\"').replace(\"''\", '\"').replace('`', \"'\").split(), return_str=True)  for sent in brown.sents()]\n",
    "\n",
    "for sent in brown_natural:\n",
    "    print(sent)"
   ]
  },
  {
   "cell_type": "code",
   "execution_count": 59,
   "metadata": {
    "tags": []
   },
   "outputs": [
    {
     "output_type": "execute_result",
     "data": {
      "text/plain": "['fire',\n 'rose',\n 'table',\n 'ground',\n 'across',\n 'thick',\n 'hair',\n 'road',\n 'eye',\n 'hair,',\n 'fire,',\n 'fire.',\n 'steps',\n 'water',\n 'went',\n 'shining',\n 'pulled',\n 'followed',\n 'laid',\n 'figure',\n 'covered',\n 'thrown',\n 'crept',\n 'coat,',\n 'eye,',\n 'took',\n 'ground,',\n 'small',\n 'yellow',\n 'passing',\n 'while',\n 'seized',\n 'knocked',\n 'several',\n 'began',\n 'closed',\n 'large',\n 'wet',\n 'burning',\n 'around',\n 'red',\n 'piece',\n 'placed',\n 'parlour',\n 'lying',\n 'side,',\n 'opened',\n 'brown',\n 'heavy',\n 'approached',\n 'struck',\n 'rushed',\n 'upper',\n 'dirty',\n 'grew',\n 'street,',\n 'carefully',\n 'broken',\n 'spot',\n 'corner',\n 'feet,',\n 'body',\n 'seated',\n 'drew',\n 'window,',\n 'gradually',\n 'stone',\n 'lighted',\n 'looked',\n 'spread',\n 'shoes',\n 'bright',\n 'arm',\n 'tears',\n 'window',\n 'narrow',\n 'filled',\n 'proceeded',\n 'white',\n 'floor',\n 'sides',\n 'foot',\n 'above',\n 'came',\n 'table,',\n 'mouth',\n 'close',\n 'ran',\n 'open',\n 'deep',\n 'coach',\n 'crowded',\n 'watching',\n 'afterwards',\n 'caught',\n 'dressed',\n 'neck,',\n 'occupied',\n 'midst',\n 'herself',\n 'carrying',\n 'noise',\n 'entered',\n 'immediately',\n 'arms,',\n 'over',\n 'darkness',\n 'outside',\n 'moved',\n 'hurried',\n 'breast,',\n 'grey',\n 'dust',\n 'leaving',\n 'then',\n 'fingers',\n 'clean',\n 'hung',\n 'previous',\n 'shone',\n 'broad',\n 'opposite',\n 'Having',\n 'remained',\n 'applied',\n 'As',\n 'rough',\n 'astonishment',\n 'started',\n 'front',\n 'gazed',\n 'leaves',\n 'solitary',\n 'evening',\n 'streets',\n 'who,',\n 'standing',\n 'bread',\n 'drawn',\n 'wooden',\n 'middle',\n 'latter',\n 'moon',\n 'wine',\n 'faces',\n 'crowd',\n 'hot',\n 'attention',\n 'lay',\n 'cold',\n 'dim',\n 'heavily',\n 'cap',\n 'dropped',\n 'top',\n 'flat',\n 'stretched',\n 'blue',\n 'coat',\n 'river',\n 'apartment',\n 'faded',\n 'wall,',\n 'hat,',\n 'outer',\n 'advanced',\n 'stopped',\n 'gave',\n 'flung',\n 'two',\n 'passed',\n 'dark,',\n 'corner,',\n 'chamber',\n 'floor,',\n 'tied',\n 'broke',\n 'presented',\n 'dress',\n 'pair',\n 'away',\n 'rolled',\n 'air,',\n 'doors',\n 'His',\n 'bundle',\n 'dragged',\n 'drove',\n 'pocket',\n 'arms',\n 'house',\n 'due',\n 'thrust',\n 'beside',\n 'fro,',\n 'hours',\n 'street.',\n 'road,',\n 'box,',\n 'manner',\n 'against',\n 'off',\n 'hidden',\n 'black',\n 'wrapped',\n 'turned',\n 'mouth,',\n 'sitting',\n 'instead',\n 'ears',\n 'walls,',\n 'again',\n 'gazing',\n 'Her',\n 'arrived',\n 'arrival',\n 'handkerchief',\n 'breath',\n 'touched',\n 'gentle',\n 'sat,',\n 'shadow',\n 'legs',\n 'wind',\n 'view',\n 'direction',\n 'instant',\n 'water,',\n 'entrance',\n 'behind',\n 'street',\n 'silent',\n 'gate,',\n 'swept',\n 'listened',\n 'face,',\n 'sky',\n 'pockets,',\n 'hastily',\n 'night',\n 'worn',\n 'letters',\n 'directed',\n 'distant',\n 'breast',\n 'former',\n 'six',\n 'whose',\n 'quickly',\n 'striking',\n 'table.',\n 'hall',\n 'left',\n 'body,',\n 'One',\n 'glass',\n 'damp',\n 'candle',\n 'With',\n 'legs,',\n 'While',\n 'centre',\n 'leading',\n 'fallen',\n 'pointed',\n 'ground.',\n 'surrounded',\n 'from',\n 'colour',\n 'afterwards,',\n 'cloud',\n 'crossed',\n 'miles',\n 'running',\n 'dinner',\n 'out',\n 'scene',\n 'light,',\n 'pace',\n 'wall',\n 'threw',\n 'Then,',\n 'knees',\n 'engaged',\n 'flew',\n 'kitchen',\n 'beneath',\n 'ragged',\n 'staircase',\n 'falling',\n 'sun',\n 'succeeded',\n 'stood',\n 'along',\n 'wall.',\n 'fixed',\n 'attitude',\n 'cast',\n 'wild',\n 'arm,',\n 'objects',\n '(the',\n 'seat',\n 'already',\n 'weather',\n 'fresh',\n 'strength',\n 'visible',\n 'up,',\n 'through',\n 'heads',\n 'sky,',\n 'held',\n 'down',\n 'clock',\n 'sight',\n 'dismal',\n 'creeping',\n 'green',\n 'became',\n 'hastened',\n 'fair',\n 'nose',\n 'kept',\n 'nose,',\n 'house,',\n 'rapidly',\n 'trees',\n 'motion',\n 'party',\n 'high,',\n 'blew',\n 'carried',\n 'countenance,',\n 'kitchen,',\n 'hid',\n 'gold',\n 'arose',\n 'silence',\n 'snow',\n 'glowing',\n 'words',\n 'where',\n 'papers',\n 'portion',\n 'forth,',\n 'passage',\n 'violent',\n 'next',\n 'aspect',\n 'lower',\n 'church',\n 'death,',\n 'last',\n 'blow',\n 'room.',\n 'deposited',\n 'bore',\n 'said:',\n 'stairs',\n 'figures',\n 'open,',\n 'big',\n 'offered',\n 'side;',\n 'spirits',\n 'elevated',\n 'tight',\n 'closed,',\n 'dull',\n 'disappeared,',\n 'uttered',\n 'whence',\n 'bare',\n 'tore',\n 'apparently',\n 'slowly',\n 'footsteps',\n 'opened,',\n 'making',\n 'men,',\n 'attended',\n 'rendered',\n 'cloth',\n 'folded',\n 'windows',\n 'horses',\n 'rain,',\n 'iron',\n 'watch',\n 'furniture',\n 'attracted',\n 'few',\n 'effort',\n 'winter',\n 'nearly',\n 'hanging',\n 'shadows',\n 'foot,',\n 'dark',\n 'lips',\n 'near',\n 'huge',\n 'waistcoat',\n 'ear',\n 'himself',\n 'usual',\n 'French',\n 'by,',\n 'received',\n 'appeared,',\n 'keeping',\n 'together',\n 'carriage',\n 'ashes',\n 'appearance',\n 'forehead,',\n 'boys',\n 'distance,',\n 'features',\n 'beheld',\n 'issued',\n 'occasionally',\n 'clasped',\n 'thus',\n 'minutes',\n 'same',\n 'end',\n 'behind,',\n 'on',\n 'state',\n 'regarded',\n 'fro',\n 'similar',\n 'softly',\n 'perfect',\n 'forward',\n 'poured',\n 'moments',\n 'garden',\n 'produced',\n 'parted',\n 'reflection',\n 'feet',\n 'parlour,',\n 'looked,',\n 'following',\n 'spot,',\n 'space',\n 'glass,',\n 'cut',\n 'each',\n 'painted',\n 'sat',\n 'addressed',\n 'form',\n 'favourite',\n 'court,',\n 'pavement,',\n 'went,',\n 'breakfast,',\n 'deserted',\n 'path',\n 'gloomy',\n 'arm.',\n 'lane',\n 'mysterious',\n 'emerged',\n 'wiped',\n 'presently',\n 'alone',\n 'terror,',\n 'stands',\n 'bottom',\n 'box',\n 'driving',\n 'pocket,',\n 'awful',\n 'curtain',\n 'shop',\n 'glow',\n 'spectacles,',\n 'under',\n 'rested',\n 'planted',\n 'when,',\n 'stepped',\n 'three',\n 'who',\n 'paper,',\n 'stars',\n 'having',\n 'town',\n 'silver',\n 'road.',\n 'smoke',\n 'quiet',\n 'doors,',\n 'caused',\n 'fell',\n 'two,',\n 'finding',\n 'pushed',\n 'morning',\n 'flowers',\n 'When',\n 'candle,',\n 'office,',\n 'scattered',\n 'ceiling,',\n 'by',\n 'steps,',\n 'air',\n 'loud',\n 'especially',\n 'vast',\n 'empty',\n 'almost',\n 'shop,',\n 'ear,',\n 'drank',\n 'round',\n 'rattled',\n 'countenance',\n 'profound',\n 'collar',\n 'bonnet',\n 'earth,',\n 'sleeping',\n 'glided',\n 'Oliver',\n 'lively',\n 'linen',\n 'bridge',\n 'sufficiently',\n 'black,',\n 'stood,',\n 'forth',\n 'contents',\n 'stillness',\n 'wound',\n 'strong',\n 'waiting',\n 'four',\n 'night;',\n 'peculiar',\n 'himself,',\n 'instant,',\n 'After',\n 'descended',\n 'rush',\n 'drawing-room',\n 'encountered',\n 'accompanied',\n 'main',\n 'pieces',\n 'left,',\n 'streets,',\n 'nearer',\n 'his,',\n 'terror',\n 'clerk',\n 'others',\n 'evening,',\n 'stirred',\n 'blowing',\n 'officer',\n 'wind,',\n 'mile',\n 'walks',\n 'application',\n 'remainder',\n 'buttoned',\n 'reflections',\n 'presence',\n 'hearty',\n 'basket',\n 'rich',\n 'neat',\n 'portrait',\n 'picked',\n 'tossed',\n 'gathered',\n 'bell',\n 'lonely',\n 'upright',\n 'ceiling',\n 'youthful',\n 'feeble',\n 'sunny',\n 'water.',\n 'force',\n 'event',\n 'met',\n 'knocking',\n 'joy',\n 'came,',\n 'door;',\n 'cold,',\n 'stock',\n 'desk,',\n 'during',\n 'house.',\n 'pace,',\n 'washed',\n 'rooms',\n 'attendant',\n 'group',\n 'number',\n 'delight',\n 'movement',\n 'past',\n 'second',\n 'waited',\n 'Many',\n 'looks',\n 'board',\n 'assumed',\n 'shout',\n 'general',\n 'collar,',\n 'collected',\n 'blazing',\n 'cocked',\n 'extended',\n 'in;',\n 'lingering',\n 'building',\n 'together,',\n 'hour,',\n 'between',\n 'On',\n 'unknown',\n 'table;',\n 'firmly',\n 'office',\n 'brick',\n 'pressed',\n 'breathing',\n 'occasions',\n 'shape,',\n 'pipe,',\n 'burnt',\n 'roll',\n 'handed',\n 'still',\n 'court',\n 'thin',\n 'finally',\n 'sea',\n 'gloves',\n 'By',\n 'moments,',\n 'assembled',\n 'bottle',\n 'rise',\n 'journey',\n 'divided',\n 'heels',\n 'trousers,',\n 'effect',\n 'gathering',\n 'boots',\n 'conducted',\n 'drooping',\n 'ordered',\n 'strongly',\n '(which',\n 'chin,',\n 'announced',\n 'awakened',\n 'still,',\n 'violently',\n 'increased',\n 'drops',\n 'closely',\n 'laughter',\n 'intervals',\n 'glanced',\n 'takes',\n 'hand;',\n 'ascended',\n 'delivered',\n 'quantity',\n 'preparations',\n 'turned,',\n 'appearance,',\n 'For',\n 'forms',\n 'house;',\n 'earth',\n 'below',\n 'stone,',\n 'slept',\n 'absorbed',\n 'sorts',\n 'found',\n 'walked',\n 'holds',\n 'pipe',\n 'clung',\n 'corners',\n 'progress',\n 'disclosed',\n 'early',\n 'times,',\n 'darkness,',\n 'inn',\n 'arranged',\n 'at',\n 'built',\n 'gate',\n 'children,',\n 'glasses',\n 'concealed',\n 'ladies',\n 'speech,',\n 'cloak,',\n 'cleared',\n 'Their',\n 'every',\n 'lifted',\n 'frequently',\n 'peeped',\n 'floor;',\n 'teeth',\n 'ushered',\n 'evening.',\n 'wretched',\n 'along.',\n 'towards',\n 'sword',\n 'sofa',\n 'first',\n 'brightly',\n 'respectable',\n 'chin',\n 'Being',\n 'boat',\n 'churchyard',\n 'seats',\n 'floor.',\n 'glare',\n 'occupation',\n 'During',\n 'moral',\n 'curtains',\n 'motionless',\n 'sudden',\n 'remaining',\n 'days,',\n 'day.',\n 'wildly',\n 'high',\n 'lingered',\n 'preparatory',\n 'itself',\n 'fields',\n 'walking',\n 'passage,',\n '(who',\n 'roar',\n 'listening',\n 'small,',\n 'worked',\n 'discovery',\n 'degrees',\n 'Even',\n 'silk',\n 'tapped',\n 'twisted',\n 'actually',\n 'account',\n 'knife',\n 'clear',\n 'sunk',\n 'velvet',\n 'ordinary',\n 'exhausted',\n 'sleep.',\n 'lamp',\n 'windows,',\n 'set',\n 'resting',\n 'stopped,',\n 'numbers',\n 'ceased',\n 'dry',\n 'cottage',\n 'relative',\n 'rain',\n 'youth',\n 'gloom',\n 'birds',\n 'prevented',\n 'tears,',\n 'throat',\n 'established',\n 'stuck',\n 'Although',\n 'frame',\n 'proof',\n 'gaze',\n 'chimney,',\n 'roused',\n 'tears.',\n 'garments',\n 'distance',\n 'upstairs',\n 'places',\n 'He',\n 'composed',\n 'cover',\n 'full',\n 'heads,',\n 'working',\n 'lantern',\n 'length,',\n 'heat',\n 'own.',\n 'afternoon',\n 'shown',\n 'line',\n 'pockets',\n 'sensation',\n 'bestowed',\n 'rode',\n 'exercise',\n 'solemn',\n 'drinking',\n 'door,',\n 'entering',\n 'station',\n 'without,',\n 'retired',\n 'paused',\n 'nearest',\n 'struggle',\n 'occasioned',\n 'most',\n 'throughout',\n 'frozen',\n 'Paris,',\n 'showed',\n 'preparing',\n 'itself,',\n 'sounds',\n 'degree',\n 'pavement',\n 'wandering',\n 'immense',\n 'beautiful',\n 'speedily',\n 'rapid',\n 'kinds',\n 'glance',\n 'expressed',\n 'prison,',\n 'individual',\n 'heap',\n 'brilliant',\n 'half-past',\n 'puts',\n 'near,',\n 'rusty',\n 'restless',\n 'months',\n 'light.',\n 'active',\n 'view,',\n 'animal',\n 'bade',\n 'constantly',\n 'appointed',\n 'formed',\n 'So,',\n 'circle',\n 'dead',\n 'new',\n 'state,',\n 'now',\n 'insisted',\n 'hall,',\n 'confusion',\n 'gently',\n 'face',\n 'utterance',\n 'search',\n 'wounded',\n 'previously',\n 'occasion,',\n 'them;',\n 'faces,',\n 'and,',\n 'audible',\n 'pale',\n 'elbow',\n 'sundry',\n 'brief',\n 'marks',\n 'act',\n 'book',\n 'concluded,',\n 'hill,',\n 'printed',\n \"o'clock\",\n 'sleep,',\n 'obtained',\n 'kicked',\n 'requested',\n 'completely',\n 'blaze',\n 'seconds,',\n 'waiter',\n 'Thus',\n 'grand',\n 'shaken',\n 'blank',\n 'different',\n 'helpless',\n 'whispering',\n 'rang',\n 'upon',\n 'range',\n 'shortly',\n 'mixed',\n 'were,',\n 'reflected',\n 'continually',\n 'anxiety',\n 'apart,',\n 'dwelling',\n 'enjoyment',\n 'round,',\n 'melancholy',\n 'instantly',\n 'horse',\n 'burden',\n 'according',\n 'window.',\n 'mere',\n 'entered,',\n 'winding',\n 'moonlight',\n 'before',\n 'animated',\n 'eyes.',\n 'carelessly',\n 'gentlemen',\n 'widow',\n 'time;',\n 'In',\n 'five',\n 'exchanged',\n 'travellers',\n 'brought',\n 'appeared',\n 'rest.',\n 'summer',\n 'fitted',\n 'preceding',\n 'inner',\n 'period',\n 'sang',\n 'stared',\n 'bounded',\n 'made',\n 'communication',\n 'beaming',\n 'sides,',\n 'train',\n 'tumbled',\n 'busy',\n 'aid',\n 'way;',\n 'clothes',\n 'twenty',\n 'wind.',\n 'these,',\n 'chanced',\n 'chimney',\n 'chain',\n 'party,',\n 'warm',\n 'shawl,',\n 'disappeared',\n 'rubbed',\n 'coarse',\n 'wood',\n 'eyes',\n 'straw',\n 'company',\n 'entire',\n 'sought',\n 'conveyed',\n 'fast',\n 'couple',\n 'moving',\n 'buried',\n 'sick',\n ...]"
     },
     "metadata": {},
     "execution_count": 59
    }
   ],
   "source": [
    "word2id = the_model.word2id\n",
    "w_id = torch.tensor([word2id['fire']])\n",
    "#print(word2id['jesus'])\n",
    "w = the_model.u_embeddings(w_id)\n",
    "\n",
    "u_embeddings = the_model.u_embeddings.weight\n",
    "\n",
    "\n",
    "dot_prod = torch.stack([torch.cdist(w,u.unsqueeze(0)).squeeze() for u in u_embeddings])\n",
    "    \n",
    "vals, indices = torch.sort(dot_prod,descending=False)\n",
    "\n",
    "wordList = [the_model.id2word[int(i)] for i in indices]\n",
    "wordList\n"
   ]
  }
 ]
}