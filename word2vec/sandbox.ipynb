{
 "metadata": {
  "language_info": {
   "codemirror_mode": {
    "name": "ipython",
    "version": 3
   },
   "file_extension": ".py",
   "mimetype": "text/x-python",
   "name": "python",
   "nbconvert_exporter": "python",
   "pygments_lexer": "ipython3",
   "version": "3.8.5-final"
  },
  "orig_nbformat": 2,
  "kernelspec": {
   "name": "python_defaultSpec_1598253678273",
   "display_name": "Python 3.8.5 64-bit"
  }
 },
 "nbformat": 4,
 "nbformat_minor": 2,
 "cells": [
  {
   "cell_type": "code",
   "execution_count": 14,
   "metadata": {},
   "outputs": [],
   "source": [
    "import torch    "
   ]
  },
  {
   "cell_type": "code",
   "execution_count": 15,
   "metadata": {},
   "outputs": [
    {
     "output_type": "error",
     "ename": "FileNotFoundError",
     "evalue": "[Errno 2] No such file or directory: '../model.obj'",
     "traceback": [
      "\u001b[0;31m---------------------------------------------------------------------------\u001b[0m",
      "\u001b[0;31mFileNotFoundError\u001b[0m                         Traceback (most recent call last)",
      "\u001b[0;32m<ipython-input-15-800fd8b21eb4>\u001b[0m in \u001b[0;36m<module>\u001b[0;34m\u001b[0m\n\u001b[0;32m----> 1\u001b[0;31m \u001b[0mthe_model\u001b[0m \u001b[0;34m=\u001b[0m \u001b[0mtorch\u001b[0m\u001b[0;34m.\u001b[0m\u001b[0mload\u001b[0m\u001b[0;34m(\u001b[0m\u001b[0;34m'../model.obj'\u001b[0m\u001b[0;34m)\u001b[0m\u001b[0;34m\u001b[0m\u001b[0;34m\u001b[0m\u001b[0m\n\u001b[0m\u001b[1;32m      2\u001b[0m \u001b[0;32mimport\u001b[0m \u001b[0mtorch\u001b[0m\u001b[0;34m.\u001b[0m\u001b[0mnn\u001b[0m\u001b[0;34m.\u001b[0m\u001b[0mfunctional\u001b[0m \u001b[0;32mas\u001b[0m \u001b[0mF\u001b[0m\u001b[0;34m\u001b[0m\u001b[0;34m\u001b[0m\u001b[0m\n\u001b[1;32m      3\u001b[0m \u001b[0;32mfrom\u001b[0m \u001b[0mtorch\u001b[0m\u001b[0;34m.\u001b[0m\u001b[0mutils\u001b[0m\u001b[0;34m.\u001b[0m\u001b[0mtensorboard\u001b[0m \u001b[0;32mimport\u001b[0m \u001b[0mSummaryWriter\u001b[0m\u001b[0;34m\u001b[0m\u001b[0;34m\u001b[0m\u001b[0m\n",
      "\u001b[0;32m/Library/Frameworks/Python.framework/Versions/3.8/lib/python3.8/site-packages/torch/serialization.py\u001b[0m in \u001b[0;36mload\u001b[0;34m(f, map_location, pickle_module, **pickle_load_args)\u001b[0m\n\u001b[1;32m    569\u001b[0m         \u001b[0mpickle_load_args\u001b[0m\u001b[0;34m[\u001b[0m\u001b[0;34m'encoding'\u001b[0m\u001b[0;34m]\u001b[0m \u001b[0;34m=\u001b[0m \u001b[0;34m'utf-8'\u001b[0m\u001b[0;34m\u001b[0m\u001b[0;34m\u001b[0m\u001b[0m\n\u001b[1;32m    570\u001b[0m \u001b[0;34m\u001b[0m\u001b[0m\n\u001b[0;32m--> 571\u001b[0;31m     \u001b[0;32mwith\u001b[0m \u001b[0m_open_file_like\u001b[0m\u001b[0;34m(\u001b[0m\u001b[0mf\u001b[0m\u001b[0;34m,\u001b[0m \u001b[0;34m'rb'\u001b[0m\u001b[0;34m)\u001b[0m \u001b[0;32mas\u001b[0m \u001b[0mopened_file\u001b[0m\u001b[0;34m:\u001b[0m\u001b[0;34m\u001b[0m\u001b[0;34m\u001b[0m\u001b[0m\n\u001b[0m\u001b[1;32m    572\u001b[0m         \u001b[0;32mif\u001b[0m \u001b[0m_is_zipfile\u001b[0m\u001b[0;34m(\u001b[0m\u001b[0mopened_file\u001b[0m\u001b[0;34m)\u001b[0m\u001b[0;34m:\u001b[0m\u001b[0;34m\u001b[0m\u001b[0;34m\u001b[0m\u001b[0m\n\u001b[1;32m    573\u001b[0m             \u001b[0;31m# The zipfile reader is going to advance the current file position.\u001b[0m\u001b[0;34m\u001b[0m\u001b[0;34m\u001b[0m\u001b[0;34m\u001b[0m\u001b[0m\n",
      "\u001b[0;32m/Library/Frameworks/Python.framework/Versions/3.8/lib/python3.8/site-packages/torch/serialization.py\u001b[0m in \u001b[0;36m_open_file_like\u001b[0;34m(name_or_buffer, mode)\u001b[0m\n\u001b[1;32m    227\u001b[0m \u001b[0;32mdef\u001b[0m \u001b[0m_open_file_like\u001b[0m\u001b[0;34m(\u001b[0m\u001b[0mname_or_buffer\u001b[0m\u001b[0;34m,\u001b[0m \u001b[0mmode\u001b[0m\u001b[0;34m)\u001b[0m\u001b[0;34m:\u001b[0m\u001b[0;34m\u001b[0m\u001b[0;34m\u001b[0m\u001b[0m\n\u001b[1;32m    228\u001b[0m     \u001b[0;32mif\u001b[0m \u001b[0m_is_path\u001b[0m\u001b[0;34m(\u001b[0m\u001b[0mname_or_buffer\u001b[0m\u001b[0;34m)\u001b[0m\u001b[0;34m:\u001b[0m\u001b[0;34m\u001b[0m\u001b[0;34m\u001b[0m\u001b[0m\n\u001b[0;32m--> 229\u001b[0;31m         \u001b[0;32mreturn\u001b[0m \u001b[0m_open_file\u001b[0m\u001b[0;34m(\u001b[0m\u001b[0mname_or_buffer\u001b[0m\u001b[0;34m,\u001b[0m \u001b[0mmode\u001b[0m\u001b[0;34m)\u001b[0m\u001b[0;34m\u001b[0m\u001b[0;34m\u001b[0m\u001b[0m\n\u001b[0m\u001b[1;32m    230\u001b[0m     \u001b[0;32melse\u001b[0m\u001b[0;34m:\u001b[0m\u001b[0;34m\u001b[0m\u001b[0;34m\u001b[0m\u001b[0m\n\u001b[1;32m    231\u001b[0m         \u001b[0;32mif\u001b[0m \u001b[0;34m'w'\u001b[0m \u001b[0;32min\u001b[0m \u001b[0mmode\u001b[0m\u001b[0;34m:\u001b[0m\u001b[0;34m\u001b[0m\u001b[0;34m\u001b[0m\u001b[0m\n",
      "\u001b[0;32m/Library/Frameworks/Python.framework/Versions/3.8/lib/python3.8/site-packages/torch/serialization.py\u001b[0m in \u001b[0;36m__init__\u001b[0;34m(self, name, mode)\u001b[0m\n\u001b[1;32m    208\u001b[0m \u001b[0;32mclass\u001b[0m \u001b[0m_open_file\u001b[0m\u001b[0;34m(\u001b[0m\u001b[0m_opener\u001b[0m\u001b[0;34m)\u001b[0m\u001b[0;34m:\u001b[0m\u001b[0;34m\u001b[0m\u001b[0;34m\u001b[0m\u001b[0m\n\u001b[1;32m    209\u001b[0m     \u001b[0;32mdef\u001b[0m \u001b[0m__init__\u001b[0m\u001b[0;34m(\u001b[0m\u001b[0mself\u001b[0m\u001b[0;34m,\u001b[0m \u001b[0mname\u001b[0m\u001b[0;34m,\u001b[0m \u001b[0mmode\u001b[0m\u001b[0;34m)\u001b[0m\u001b[0;34m:\u001b[0m\u001b[0;34m\u001b[0m\u001b[0;34m\u001b[0m\u001b[0m\n\u001b[0;32m--> 210\u001b[0;31m         \u001b[0msuper\u001b[0m\u001b[0;34m(\u001b[0m\u001b[0m_open_file\u001b[0m\u001b[0;34m,\u001b[0m \u001b[0mself\u001b[0m\u001b[0;34m)\u001b[0m\u001b[0;34m.\u001b[0m\u001b[0m__init__\u001b[0m\u001b[0;34m(\u001b[0m\u001b[0mopen\u001b[0m\u001b[0;34m(\u001b[0m\u001b[0mname\u001b[0m\u001b[0;34m,\u001b[0m \u001b[0mmode\u001b[0m\u001b[0;34m)\u001b[0m\u001b[0;34m)\u001b[0m\u001b[0;34m\u001b[0m\u001b[0;34m\u001b[0m\u001b[0m\n\u001b[0m\u001b[1;32m    211\u001b[0m \u001b[0;34m\u001b[0m\u001b[0m\n\u001b[1;32m    212\u001b[0m     \u001b[0;32mdef\u001b[0m \u001b[0m__exit__\u001b[0m\u001b[0;34m(\u001b[0m\u001b[0mself\u001b[0m\u001b[0;34m,\u001b[0m \u001b[0;34m*\u001b[0m\u001b[0margs\u001b[0m\u001b[0;34m)\u001b[0m\u001b[0;34m:\u001b[0m\u001b[0;34m\u001b[0m\u001b[0;34m\u001b[0m\u001b[0m\n",
      "\u001b[0;31mFileNotFoundError\u001b[0m: [Errno 2] No such file or directory: '../model.obj'"
     ]
    }
   ],
   "source": [
    "the_model = torch.load('../CBOW_(NF)_FullyTrained.obj')\n",
    "import torch.nn.functional as F\n",
    "from torch.utils.tensorboard import SummaryWriter"
   ]
  },
  {
   "cell_type": "code",
   "execution_count": 3,
   "metadata": {},
   "outputs": [],
   "source": [
    "AllWords = []\n",
    "for line in open(\"../Sci-Fi_Novel.txt\"):\n",
    "    row = line.split(' ')\n",
    "    AllWords+=list(row)\n",
    "\n",
    "line_breaker=200\n",
    "i=1\n",
    "with open(\"../Sci-fi_Novel1.txt\", 'a') as file:\n",
    "    for word in AllWords:\n",
    "        if(\".\" in word or i==line_breaker):\n",
    "            file.write(word.strip('\\n')+\"\\n\")\n",
    "            i=0\n",
    "        else:\n",
    "            file.write(word.strip('\\n')+\" \")\n",
    "\n",
    "        i+=1"
   ]
  },
  {
   "cell_type": "code",
   "execution_count": 7,
   "metadata": {
    "tags": []
   },
   "outputs": [],
   "source": [
    "from gensim.models import Word2Vec\n",
    "\n",
    "model = Word2Vec(corpus_file='../brown.txt', size=100, window=5, min_count=1, workers=4)"
   ]
  },
  {
   "cell_type": "code",
   "execution_count": 29,
   "metadata": {},
   "outputs": [
    {
     "output_type": "execute_result",
     "data": {
      "text/plain": "[('fractions', 0.8982923626899719),\n ('national,', 0.8944772481918335),\n ('coefficients', 0.8911668062210083),\n ('shipments', 0.8880306482315063),\n ('respectively,', 0.8873615264892578),\n ('accelerators', 0.8856074213981628),\n ('rigid', 0.8853059411048889),\n ('factory', 0.8839299082756042),\n ('sexes.', 0.8836360573768616),\n ('photocathodes', 0.8829880952835083)]"
     },
     "metadata": {},
     "execution_count": 29
    }
   ],
   "source": [
    "#model.train(corpus_file='../brown.txt', total_examples=model.corpus_count, #total_words=model.corpus_total_words, epochs=model.iter)\n",
    "#model.predict_output_word(['death', 'angry', 'kill'])\n",
    "model.most_similar('rice')"
   ]
  },
  {
   "cell_type": "code",
   "execution_count": null,
   "metadata": {
    "tags": []
   },
   "outputs": [],
   "source": [
    "import nltk\n",
    "from nltk.corpus import brown\n",
    "from sacremoses import MosesTokenizer, MosesDetokenizer\n",
    "\n",
    "mdetok = MosesDetokenizer()\n",
    "\n",
    "brown_natural = [mdetok.detokenize(' '.join(sent).replace('``', '\"').replace(\"''\", '\"').replace('`', \"'\").split(), return_str=True)  for sent in brown.sents()]\n",
    "\n",
    "for sent in brown_natural:\n",
    "    print(sent)"
   ]
  },
  {
   "cell_type": "code",
   "execution_count": 13,
   "metadata": {
    "tags": []
   },
   "outputs": [
    {
     "output_type": "execute_result",
     "data": {
      "text/plain": "['spaceship',\n 'regions',\n 'generator',\n 'explosions',\n 'lighter',\n 'fraction',\n 'accelerated',\n 'shelter',\n 'terror,',\n 'motion.',\n 'craft.',\n 'borne',\n 'scatter',\n 'rooms',\n 'earth.',\n 'diminished',\n 'maze',\n 'dispersed',\n 'activity.',\n 'technicians',\n 'images',\n 'grove',\n 'lightning',\n 'screens',\n 'moon',\n 'fabric',\n 'probing',\n 'currents',\n 'tender',\n 'waves.',\n 'compact',\n 'futile',\n 'rockets',\n 'cramped',\n 'plunge',\n 'bleak',\n 'city.',\n 'tongues',\n 'traces',\n 'placing',\n 'pound',\n 'Already',\n 'bounds',\n 'axis',\n 'screens,',\n 'traveled',\n 'tortured',\n 'another.',\n 'islands',\n 'moon,',\n 'drums.',\n 'colliding',\n 'meteor',\n \"sun's\",\n 'turmoil',\n 'island,',\n 'vegetation.',\n 'domes',\n 'instruments,',\n 'crude',\n 'intensity.',\n 'climax',\n 'sphere,',\n 'warped',\n 'beasts',\n 'valley.',\n 'instant,',\n 'penetrated',\n 'daylight',\n 'dulled',\n 'noisy',\n 'engines',\n 'rain,',\n 'parlor',\n 'tower,',\n 'cliffs',\n 'irregular',\n 'field,',\n 'radius',\n 'observation',\n 'Orion',\n 'woods',\n 'skies',\n 'hemisphere,',\n 'brute',\n 'brighter',\n 'island',\n 'adjustment',\n 'sleeping',\n 'swarm',\n 'control,',\n 'tasks',\n 'remainder',\n 'step.',\n 'wheels',\n 'second,',\n 'awaiting',\n 'hurl',\n 'lens',\n 'speeded',\n 'discarded',\n 'earth,',\n 'battery',\n 'ensuing',\n 'poles',\n 'column,',\n 'Rome',\n 'fires',\n 'pathway',\n 'effort,',\n 'garments',\n 'expanding',\n 'lakes',\n 'compound.',\n 'explosive',\n 'bipeds',\n 'rooted',\n 'corridors',\n \"V's\",\n 'haunting',\n 'hills,',\n 'directional',\n 'acceleration,',\n 'joy',\n 'markings',\n 'Arctic',\n 'unusually',\n 'remnants',\n 'jungle,',\n 'unbearable',\n 'momentum',\n 'stunned',\n 'impenetrable',\n 'fighters',\n 'reaches',\n 'giant,',\n 'tlie',\n 'explosives',\n 'strung',\n 'group.',\n 'shadow.',\n 'exterior',\n 'tanks.',\n 'acceleration',\n 'bubbles',\n 'floats',\n 'hatred',\n 'confronted',\n 'circles',\n 'triggering',\n 'telescope',\n 'reveal',\n 'halls',\n 'swarming',\n 'terminal',\n 'cars.',\n 'telescopic',\n 'sights',\n 'heavens',\n 'quest',\n 'storm.',\n 'dimensional',\n \"station's\",\n 'patrol',\n 'ceramic',\n 'shattering',\n 'man-made',\n 'sea,',\n 'heads,',\n 'homes.',\n 'jewels',\n 'cages',\n 'hardened',\n 'satellite.',\n 'house',\n 'specks',\n 'structure,',\n 'audience',\n 'animated',\n 'hemisphere',\n 'cover,',\n 'gleam',\n 'dozens',\n 'houses.',\n 'positions',\n 'scope',\n 'peak',\n 'corpses',\n 'digging',\n 'clicks',\n 'sports',\n 'safety.',\n 'emptiness',\n 'recreation',\n 'horror',\n 'paralysis',\n 'delegation',\n 'double',\n 'dancers',\n 'delight',\n 'hot,',\n 'posts',\n 'furniture,',\n 'sunset.',\n 'atmosphere.',\n 'logs',\n 'Dark',\n 'quarry',\n 'craft',\n 'midnight',\n 'surroundings.',\n 'rocks.',\n 'openings',\n 'string',\n 'base.',\n \"city's\",\n 'sensors',\n 'relaxation',\n 'intense',\n 'viewed',\n 'unmarked',\n 'liquid,',\n 'ivory',\n 'sensitivity',\n 'safety',\n 'spring',\n 'growth.',\n 'filled.',\n 'scream.',\n 'realization',\n 'identical',\n 'across.',\n 'nude',\n 'speakers',\n 'skies.',\n 'formation,',\n 'continuous',\n 'cover.',\n 'levels',\n 'uniforms',\n 'shield',\n 'cut.',\n 'awkward',\n 'garden',\n 'coast',\n 'tools,',\n 'neural',\n 'cooling',\n 'plants.',\n 'balance',\n 'wreckage',\n 'balance.',\n 'civilization,',\n 'charts',\n 'map',\n 'net,',\n 'bitterness',\n 'altitude.',\n 'reactor',\n 'Cave',\n 'foothills',\n 'pulses',\n 'cannon',\n 'cigarettes',\n 'stars.',\n 'impetus',\n 'pieces',\n 'creatures,',\n 'horde',\n 'song',\n 'dangerously',\n 'roofed',\n 'fragment',\n 'meter',\n 'auxiliary',\n 'band.',\n 'concentrating',\n 'objects.',\n 'youth',\n 'automatics',\n 'crewmen',\n 'fashioned',\n 'shorter',\n 'deer',\n 'depth',\n 'appendages',\n 'encased',\n 'vehicles',\n 'groups,',\n 'aircar,',\n 'column',\n 'quarters.',\n 'softer',\n 'zone',\n 'terrain',\n 'center,',\n 'avid',\n 'compartments',\n 'levels.',\n 'pile,',\n 'rockets.',\n 'unit',\n 'canyon',\n 'noses',\n 'continent.',\n 'garbage',\n 'stony',\n 'storm',\n 'bridge',\n 'infinity.',\n 'limits.',\n 'grounded',\n 'furnished',\n 'night.',\n 'tools.',\n 'device,',\n 'distant.',\n 'Hall',\n 'plateau',\n 'explosion.',\n 'heat.',\n 'noises.',\n 'darkness,',\n 'Crew',\n 'sheltered',\n 'image.',\n 'volume.',\n 'hunger',\n 'crates',\n 'light;',\n 'vanished,',\n 'crater.',\n 'instruments',\n 'weightless',\n 'six,',\n 'statue',\n 'interest.',\n 'middle,',\n 'position.',\n 'moon.',\n 'cobalt',\n 'massed',\n 'movement.',\n 'imprisoned',\n 'endlessly',\n 'dawn',\n 'wrecked',\n 'vault',\n 'charge.',\n 'position',\n 'cards',\n 'Lying',\n 'strove',\n 'empty,',\n 'weariness',\n 'costume',\n 'rays',\n 'units,',\n 'plateau,',\n 'leap.',\n 'bathroom',\n 'avenue',\n 'compound',\n 'flares',\n 'centers',\n 'sickening',\n 'vegetation',\n 'displaying',\n 'lunar',\n 'winds,',\n 'detector',\n 'proximity',\n 'thoughts,',\n 'mass,',\n 'swamp',\n 'occupants',\n 'wired',\n 'range,',\n 'astonishment',\n 'lounge',\n 'range.',\n 'gaining',\n 'ruins',\n 'searching',\n 'vertically',\n 'cave',\n 'creature,',\n 'remote,',\n 'rooms,',\n 'armed',\n 'tribesmen',\n 'Small',\n 'rings',\n 'single,',\n 'airplane',\n 'incomprehensible',\n 'infinity',\n 'excitement',\n 'oasis',\n 'cage',\n 'orbit.',\n 'cars,',\n 'quarters',\n 'saloon',\n 'vehicles.',\n 'recovering',\n 'intervals,',\n 'emerge',\n 'mossy',\n 'noises',\n 'bricks',\n 'larger,',\n 'elliptical',\n 'flight.',\n 'pits',\n 'Pirates',\n 'past.',\n 'demolished',\n 'Out',\n 'pit.',\n 'east,',\n 'hideous',\n 'pathways',\n 'basement',\n 'flesh,',\n 'diagrams',\n 'rests',\n 'cautious',\n 'torment',\n 'occasionally',\n 'surprisingly',\n 'gathering',\n 'spectrum.',\n 'clashed',\n 'stricken',\n 'bridges',\n 'rampant',\n 'exploring',\n 'splash',\n 'enthusiasm',\n 'motion,',\n 'approval',\n 'blast.',\n 'hub',\n 'sections,',\n 'remaining',\n 'passage',\n 'measuring',\n 'village',\n 'confines',\n 'clock',\n 'ugly',\n 'alien,',\n 'midst',\n 'speed.',\n 'projectile',\n 'wherein',\n 'Hall,',\n 'Sol,',\n 'ocean,',\n 'electricity',\n 'guards,',\n 'incredibly',\n 'comrades',\n 'cell,',\n 'bases',\n 'palace',\n 'area,',\n 'holes',\n 'perfection',\n 'spears',\n 'threads',\n \"Mars'\",\n 'spaceport',\n 'saucer.',\n 'stir',\n 'reactions.',\n 'zero.',\n 'victim.',\n 'bleak,',\n 'ending',\n 'mark.',\n 'machine.',\n 'decks',\n 'soil.',\n 'appreciation',\n 'humanoids',\n 'equator,',\n 'retaining',\n 'priests',\n 'clean,',\n 'booming',\n 'roof.',\n 'diffused',\n 'offices,',\n 'roughly',\n 'shielded',\n 'inspection',\n 'mob',\n 'stack',\n 'level.',\n 'vehicle.',\n 'intent',\n 'country,',\n 'pipes',\n 'lengths',\n 'drilled',\n 'measured',\n 'surge',\n 'comparing',\n 'distinctly',\n 'navel.',\n 'dwellings',\n 'positions,',\n 'alloy',\n 'conveyed',\n 'serving',\n 'burned,',\n 'axis,',\n 'winter',\n 'study.',\n 'angle',\n 'resentment',\n 'afternoon',\n 'rainbow',\n 'globular',\n 'membrane',\n 'Jupiter.',\n 'absorbed',\n 'distances',\n 'oi',\n 'north.',\n 'pens',\n 'babble',\n 'motors.',\n 'movements.',\n 'vent',\n 'machine,',\n 'taped',\n 'seeds',\n 'uncounted',\n 'removed.',\n 'estimated',\n 'complexity',\n 'station.',\n 'antennas',\n 'crossing',\n 'extracting',\n 'valves',\n 'channels',\n 'levels,',\n 'rented',\n 'revolve',\n 'season.',\n 'boulders,',\n 'elevation',\n 'column.',\n 'unidentified',\n 'scene.',\n 'skins',\n 'skeleton',\n 'drifts',\n 'copter',\n 'suns,',\n 'dark.',\n 'erected',\n 'fitting',\n 'isolated',\n 'normal.',\n 'shuttle',\n 'core',\n 'fierce',\n 'devoid',\n 'sight.',\n 'armored',\n 'nearby,',\n 'squadron',\n 'humidity',\n 'airless',\n 'brightest',\n 'injected',\n 'unused',\n 'artillery',\n 'transparency',\n 'club.',\n 'stench',\n 'caves,',\n 'concentrated',\n 'lifeless',\n 'slender,',\n 'ant',\n 'soldiers',\n 'herds',\n 'dawn.',\n 'hunting',\n 'explosion,',\n 'temperatures',\n 'water,',\n 'shape.',\n 'unconscious',\n 'scope.',\n 'perceptible',\n 'ports,',\n 'engine,',\n 'hillside',\n 'heights',\n 'Repair',\n 'blocks',\n 'Atlantic',\n 'effort.',\n 'bands',\n 'support,',\n 'restless',\n 'band',\n 'quarters,',\n 'electron',\n 'gunfire',\n 'continent',\n 'cloud,',\n 'landscape',\n 'star,',\n 'inaudible',\n 'Thousands',\n 'fright',\n 'packed',\n 'pride.',\n 'highway',\n 'screened',\n 'film.',\n 'microscope,',\n 'weight,',\n 'maps',\n 'Square',\n 'outpost',\n 'searing',\n 'fired,',\n 'stations.',\n 'shape',\n 'fourth',\n 'confusion,',\n 'hills',\n 'depression',\n 'arch',\n 'visible,',\n 'wine.',\n 'fifty,',\n 'response',\n 'dome,',\n 'corpse',\n 'marking',\n 'operations.',\n 'pure,',\n 'film',\n 'plowed',\n 'moments,',\n 'bones',\n 'sequence',\n 'trap',\n 'attached',\n 'Bronze',\n 'sounds.',\n 'ants.',\n 'blue.',\n 'hazy',\n 'Inside',\n 'full-length',\n 'prominent',\n 'detachment',\n 'struggling',\n 'smiles',\n 'Uranus',\n 'barrier',\n 'officials',\n 'hole,',\n 'patterns.',\n 'sailing',\n 'threatening',\n 'outlying',\n 'section.',\n 'rotated',\n 'city,',\n 'subtly',\n 'dial',\n 'height',\n 'instruments.',\n 'numbered',\n 'diving',\n 'spectrum',\n 'picnic',\n 'leaden',\n 'crackle',\n 'recess',\n 'largest',\n 'helplessness',\n 'conveyance',\n 'ocean.',\n 'spaces',\n 'spot.',\n 'accelerating',\n 'shells,',\n 'spaceship,',\n 'globes',\n 'net',\n 'Occasionally,',\n 'landed,',\n 'submarine',\n 'homing',\n 'vaporized',\n 'screens.',\n 'louder,',\n 'unloaded',\n 'boundaries',\n 'suits,',\n 'outside.',\n 'eye,',\n 'arrived,',\n 'diverted',\n 'dusk',\n 'watching,',\n 'fields,',\n 'porous',\n 'maria',\n 'structures',\n 'impossibly',\n 'weighing',\n 'milk',\n 'motions',\n 'bodies.',\n 'projection',\n 'cultivated',\n 'scampering',\n 'file.',\n 'rocket.',\n 'setting.',\n 'canyons',\n 'imder',\n 'agony,',\n 'half.',\n 'cool.',\n 'force.',\n 'immigrants',\n 'gone,',\n 'paths.',\n 'shifts',\n 'crystals',\n 'reflective',\n 'tools',\n 'fleeting',\n 'ink',\n 'Hundreds',\n 'mechanism',\n 'howling',\n 'Kamm,',\n 'boat.',\n 'satellites,',\n 'worker',\n 'static',\n 'propel',\n 'belts',\n 'position,',\n 'wilderness.',\n 'terrace',\n 'documents',\n 'unoccupied',\n 'spectators',\n 'pond',\n 'eons',\n 'spheres',\n 'bottom,',\n 'high.',\n 'needles',\n 'brief,',\n 'portions',\n 'drugstore',\n 'heavens.',\n 'nursery',\n 'maneuvering',\n 'billion',\n 'fhe',\n 'shells.',\n 'converging',\n 'cafe',\n 'flimsy',\n 'pressures',\n 'fields.',\n 'lowest',\n 'hangs',\n 'communion',\n 'emerged,',\n 'grounds',\n 'supersonic',\n 'labored',\n 'card',\n 'access',\n 'parade',\n 'columns',\n 'party',\n 'breaking',\n 'passages',\n 'screams',\n 'snoring',\n 'mush',\n 'died.',\n 'sizable',\n 'underwater',\n 'wine',\n 'bacon',\n 'widespread',\n 'terror',\n 'frigid',\n 'rubble.',\n 'rotation,',\n 'frames',\n 'shop,',\n 'nearer',\n 'irritation',\n 'gloomy',\n 'positions.',\n 'band,',\n 'view.',\n 'focus,',\n 'landscape,',\n 'springs',\n 'backs,',\n 'thicker',\n 'marred',\n 'infra-red',\n 'winged',\n 'frail',\n 'falls',\n 'bamboo',\n 'circling',\n 'panic',\n 'dignified',\n 'furtive',\n 'thickened',\n 'nightmare',\n 'mockery',\n 'radiating',\n 'cab',\n 'pungent',\n 'moderate',\n 'scout',\n 'nearing',\n 'tiie',\n 'hydroponics',\n 'high-pressure',\n 'lain',\n 'disposal',\n 'imperceptible',\n 'radar,',\n 'bills',\n 'showing',\n 'masked',\n 'ninth',\n 'interchange',\n 'cell.',\n 'graph',\n 'lust',\n 'insanely',\n 'forests',\n 'fires.',\n 'container',\n 'headquarters.',\n 'selecting',\n 'exhausted.',\n 'delivery',\n 'nucleus',\n 'thunderous',\n 'rockets,',\n 'weakened',\n 'tents',\n 'warmth',\n 'marks',\n 'sharing',\n 'sweetness',\n 'wandering',\n 'quarter',\n 'amusement',\n 'view,',\n 'panels.',\n 'nation.',\n 'continent,',\n 'shield.',\n 'letters',\n 'ridge,',\n 'winter.',\n 'barriers',\n 'meaningless',\n 'impulse',\n 'bill',\n 'segments',\n 'beach,',\n 'utter',\n 'streets,',\n 'mingling',\n \"artist's\",\n 'handle.',\n 'burying',\n 'helicopter',\n 'translating',\n 'supply.',\n 'chasm',\n 'fusing',\n 'wild,',\n 'valley,',\n 'vernier',\n 'forty-five',\n 'quiver',\n 'strip,',\n 'senses.',\n 'piece.',\n 'places',\n 'frontier',\n \"room's\",\n 'vault,',\n 'alert',\n 'menu',\n 'fertile',\n 'tool',\n 'imposing',\n 'inflated',\n 'scream',\n 'centered',\n 'overtook',\n 'buildings.',\n 'ceased,',\n 'oxygen.',\n 'traffic.',\n 'field.',\n 'solemn',\n 'flames,',\n 'seats,',\n 'assembling',\n 'rain.',\n 'telescope,',\n 'smashing',\n 'promptly',\n 'purposes.',\n 'meat,',\n 'swell',\n 'yawning',\n 'beasts.',\n 'talked,',\n 'restored',\n 'section,',\n 'fish',\n 'risen',\n 'decadent',\n 'disappearing',\n 'arc.',\n 'dreamy',\n 'memory,',\n 'sizes',\n 'Hostel',\n 'moons',\n 'warriors',\n 'hedges',\n 'vanishing',\n 'chamber,',\n 'own,',\n 'improvised',\n 'formation',\n 'rocket,',\n 'den',\n 'happiness.',\n 'parking',\n 'orbital',\n 'razor',\n 'place.',\n 'unfamiliar,',\n 'fatigue',\n 'flights',\n 'galaxies.',\n 'pillars',\n 'feminine',\n 'conversational',\n 'mystery.',\n 'gouts',\n 'blown',\n 'carts',\n 'defiant',\n 'silence,',\n 'alley.',\n 'spikes',\n 'visibility',\n 'launcher',\n 'captains',\n 'slides',\n 'doll.',\n 'boards.',\n 'overcoat',\n 'handsome',\n 'horror,',\n 'visualized',\n 'blended',\n 'anticipation,',\n 'eastward',\n 'awakening',\n 'crater,',\n ...]"
     },
     "metadata": {},
     "execution_count": 13
    }
   ],
   "source": [
    "word2id = the_model.word2id\n",
    "w_id = torch.tensor([word2id['spaceship']])\n",
    "#print(word2id['jesus'])\n",
    "w = the_model.u_embeddings(w_id).squeeze()\n",
    "\n",
    "u_embeddings = the_model.u_embeddings.weight\n",
    "\n",
    "\n",
    "dot_prod = torch.stack([torch.dot(u,w)/(torch.norm(u)*torch.norm(w)) for u in u_embeddings])\n",
    "    \n",
    "vals, indices = torch.sort(dot_prod,descending=True)\n",
    "\n",
    "wordList = [the_model.id2word[int(i)] for i in indices]\n",
    "wordList\n"
   ]
  }
 ]
}