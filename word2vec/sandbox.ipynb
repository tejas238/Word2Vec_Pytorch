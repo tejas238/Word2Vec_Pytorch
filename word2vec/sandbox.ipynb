{
 "metadata": {
  "language_info": {
   "codemirror_mode": {
    "name": "ipython",
    "version": 3
   },
   "file_extension": ".py",
   "mimetype": "text/x-python",
   "name": "python",
   "nbconvert_exporter": "python",
   "pygments_lexer": "ipython3",
   "version": "3.8.5-final"
  },
  "orig_nbformat": 2,
  "kernelspec": {
   "name": "python_defaultSpec_1598158838099",
   "display_name": "Python 3.8.5 64-bit"
  }
 },
 "nbformat": 4,
 "nbformat_minor": 2,
 "cells": [
  {
   "cell_type": "code",
   "execution_count": 1,
   "metadata": {},
   "outputs": [],
   "source": [
    "import torch    "
   ]
  },
  {
   "cell_type": "code",
   "execution_count": 2,
   "metadata": {},
   "outputs": [],
   "source": [
    "the_model = torch.load('../model.obj')\n",
    "import torch.nn.functional as F\n",
    "from torch.utils.tensorboard import SummaryWriter\n"
   ]
  },
  {
   "cell_type": "code",
   "execution_count": 7,
   "metadata": {
    "tags": []
   },
   "outputs": [
    {
     "output_type": "execute_result",
     "data": {
      "text/plain": "['be.',\n 'it.’',\n 'you.’',\n 'it.',\n 'live',\n 'deal',\n 'do',\n 'you?’',\n 'you',\n 'well.',\n 'I’ve',\n 'I',\n 'glad',\n 'her.',\n 'now.',\n 'you.',\n 'much,',\n 'him.',\n 'should',\n 'knew',\n 'Leicester',\n 'better',\n 'thing',\n 'exactly',\n 'now,',\n 'assure',\n 'walk',\n 'cannot',\n 'me',\n 'understand',\n 'more,',\n 'that.',\n 'talk',\n 'it.\"',\n 'Pecksniff,',\n 'mine,',\n 'must',\n 'hope',\n 'it',\n 'so,',\n 'take',\n 'sure',\n 'it;',\n 'dare',\n 'if',\n 'say',\n 'happy',\n 'else',\n 'we',\n 'this.',\n 'quite',\n 'lose',\n 'find',\n 'you,’',\n 'always',\n 'Ada',\n 'of.',\n 'bear',\n 'sooner',\n 'saying',\n 'once.',\n 'better,',\n 'see',\n 'afraid',\n 'didn’t',\n 'not',\n 'give',\n 'really',\n 'case,',\n 'head.',\n 'know',\n 'enough',\n 'word',\n 'think',\n 'be',\n 'told',\n 'will,',\n 'never',\n 'hear',\n 'wery',\n 'shall',\n 'me.',\n 'use',\n \"it's\",\n 'have',\n 'speak',\n 'would',\n 'sorry',\n 'you,',\n 'bed,',\n 'goodness',\n 'good',\n 'fear',\n 'aside',\n 'ought',\n 'me,',\n 'stop',\n '‘Why,',\n 'my',\n 'only',\n 'particular',\n 'able',\n 'am',\n 'loved',\n 'wanted',\n 'just',\n 'this,',\n 'such',\n 'back,',\n 'forget',\n 'that,',\n 'come',\n 'she',\n 'could',\n 'there,',\n 'show',\n 'saying,',\n 'seen',\n 'strange',\n 'any',\n 'minutes,',\n 'you?',\n 'off,',\n 'was.',\n 'other,',\n '‘I',\n 'it?’',\n 'thought',\n 'to',\n 'us.',\n 'occurred',\n 'something',\n 'allow',\n 'expected',\n 'nobody',\n 'me?\"',\n 'father',\n 'well,',\n 'might',\n 'can',\n 'understood',\n 'home',\n 'thinking',\n 'place.',\n 'it,',\n 'tell',\n 'asking',\n 'whether',\n 'doubt',\n 'them.',\n '‘Don’t',\n 'your',\n 'doing',\n 'did',\n 'care',\n 'guardian',\n 'go.',\n 'feel',\n 'We',\n 'sir?’',\n 'pleasure',\n 'pity',\n 'honour',\n 'again.',\n 'what',\n 'man;',\n 'speaking',\n 'why',\n 'talking',\n 'unless',\n 'Weller',\n '\"I',\n 'now;',\n 'may',\n 'remember',\n 'gentleman.',\n \"wouldn't\",\n 'seeing',\n 'going',\n 'was,',\n 'telling',\n 'reason',\n 'Fagin,',\n 'before,',\n 'time',\n 'me;',\n 'mother',\n 'sir.’',\n 'get',\n 'ever',\n 'talked',\n 'world',\n 'there.',\n 'myself.',\n 'help',\n 'better.',\n 'so',\n 'know,',\n '\"You',\n 'words,',\n 'chair',\n 'us',\n 'say,',\n 'man',\n 'hearing',\n 'make',\n 'leave',\n 'once,',\n 'notice',\n 'ago,',\n 'hand.',\n 'kind',\n 'much',\n 'him.’',\n 'does',\n 'anything',\n 'beg',\n 'no',\n 'believe',\n 'way.',\n 'heard',\n 'bed',\n 'obliged',\n 'is,’',\n 'mine',\n 'so,’',\n 'her,',\n 'me.’',\n 'suppose',\n 'saw',\n 'far',\n 'fellow,',\n 'would,',\n 'answer',\n '‘We',\n 'too',\n 'than',\n 'safe',\n 'She',\n 'keep',\n 'about',\n 'moment',\n 'moment,',\n 'been',\n 'him;',\n 'fat',\n 'don’t',\n 'how',\n 'pleasant',\n 'often',\n 'interest',\n 'speak,',\n 'Mark.',\n 'me?’',\n 'boy',\n 'so.',\n 'gone',\n 'that',\n 'do,',\n 'nothing',\n 'Snodgrass',\n 'burst',\n 'Jew',\n '\"I\\'ll',\n 'too.',\n 'go',\n 'away.',\n 'soon',\n 'ask',\n 'wish',\n 'returned.',\n 'more',\n 'welcome',\n 'are',\n \"didn't\",\n 'it’s',\n 'here,',\n 'surprise',\n 'got',\n 'people',\n 'question,',\n 'girl',\n 'stranger,',\n 'Sam',\n 'not.',\n 'expect',\n 'Ada,',\n 'let',\n 'is,',\n 'done',\n '‘You',\n 'indeed,',\n 'for',\n 'sir,’',\n 'suspect',\n 'change',\n 'me.\"',\n 'expression',\n 'not,',\n 'they',\n 'you.\"',\n 'now?’',\n 'seem',\n 'Chuzzlewit',\n 'since',\n \"don't\",\n 'ashamed',\n 'because',\n 'yourself',\n 'stay',\n 'you;',\n 'wide',\n 'out,',\n 'myself',\n 'companion',\n 'meant',\n 'had,',\n 'pass',\n 'scarcely',\n 'before.',\n 'here.',\n 'lie',\n 'trouble',\n 'Martin.',\n 'all;',\n 'duty',\n 'cheerful',\n 'call',\n 'you!’',\n 'wondered',\n 'grateful',\n 'suddenly',\n 'sound',\n 'please,',\n 'he',\n 'asleep',\n 'will',\n 'stranger',\n 'blessed',\n 'place',\n 'free',\n 'him',\n 'been,',\n 'used',\n 'Bumble',\n 'gentleman',\n 'Heaven',\n 'bring',\n 'this?’',\n 'very',\n 'Tupman',\n 'hour',\n 'Ben',\n 'place,',\n 'it?',\n 'eyes.',\n 'room',\n 'Pickwick',\n 'whisper',\n 'he’d',\n 'laughing',\n 'it!’',\n 'face.',\n 'consideration',\n 'you’d',\n 'spoke',\n 'again,',\n 'girl.',\n 'Sam.',\n 'enough,',\n 'you’ll',\n 'mind,',\n 'that;',\n 'true',\n 'key',\n 'hardly',\n 'else.',\n '‘How',\n 'seems',\n 'together.',\n 'laugh',\n 'object',\n 'pressing',\n 'be,',\n 'shut',\n 'comfortable',\n 'happen',\n 'secret,',\n 'light',\n 'confidence',\n '‘em',\n 'bed.',\n 'that’s',\n 'mind',\n 'sit',\n 'distance',\n 'Perker,',\n 'want',\n 'me!’',\n 'other.',\n 'matters',\n 'consider',\n 'now?\"',\n 'you!\"',\n 'it!\"',\n 'possibly',\n 'knock',\n 'pray',\n 'sir,',\n 'more;',\n 'repeat',\n 'thank',\n 'side.',\n '‘but',\n 'when',\n 'Pickwick,',\n 'precisely',\n 'in,',\n 'can’t',\n 'one',\n 'while,',\n '\"It',\n 'inquire',\n 'could,',\n 'Mark,',\n 'acquainted',\n '‘If',\n 'fact',\n 'right,',\n 'time,',\n 'spoken',\n 'child,',\n 'thoughtful',\n \"'I\",\n 'raised',\n 'her',\n 'is',\n 'years,',\n 'time.',\n 'but',\n 'all.',\n 'anybody',\n 'son,',\n '‘They',\n 'queer',\n 'Sam,',\n 'circumstances',\n 'spoke,',\n 'home.',\n 'necessary',\n 'own',\n 'smile',\n 'aware',\n 'it?\"',\n 'us,',\n 'bent',\n 'Martin,',\n 'that?’',\n 'years.',\n 'day,',\n 'right',\n 'myself,',\n 'him,',\n 'word,',\n 'them',\n 'hard',\n 'as',\n 'mean',\n 'to-morrow',\n \"'It\",\n 'calling',\n 'observe',\n 'there',\n 'run',\n 'need',\n 'see,’',\n 'morning.',\n 'love',\n 'conversation',\n 'matter',\n 'trust',\n 'night.',\n \"Pickwick's\",\n 'to,',\n 'first.',\n 'fellow',\n 'has',\n 'life,',\n 'lady',\n 'alone.',\n 'arter',\n 'he’s',\n 'out.',\n 'distinctly',\n 'right.',\n 'without',\n 'way',\n 'locked',\n 'felt',\n 'man.',\n 'Gamp',\n 'Dombey',\n 'Tom,',\n 'But',\n 'poor',\n 'fifty',\n 'duty,',\n 'ill',\n 'notion',\n 'here',\n 'guess',\n 'reach',\n 'question',\n 'very,',\n 'thought,',\n 'drunk',\n 'money',\n 'living',\n 'slightest',\n 'comfort',\n 'truth',\n 'day',\n '(I',\n 'me,’',\n 'painful',\n 'before',\n 'likely',\n 'well',\n 'If',\n 'taken',\n 'pretty',\n \"can't\",\n 'merry',\n 'ear.',\n 'odd',\n \"it.'\",\n 'quarter',\n 'heart',\n 'last.',\n 'dear',\n 'difficult',\n 'gone,',\n 'liberty',\n 'anxious',\n 'breakfast',\n 'subject',\n 'best',\n 'nothing.',\n 'reached',\n 'unable',\n 'YOU',\n 'careful',\n 'astonished',\n 'bade',\n 'pause',\n 'Weller,',\n 'forward.',\n 'Dedlock,',\n 'delighted',\n 'George,',\n 'whatever',\n 'a',\n 'all,',\n 'know;',\n 'Weller.',\n 'disposed',\n 'return',\n 'simple',\n 'knew,',\n 'opportunity',\n 'sudden',\n 'short',\n 'friend,',\n 'say.',\n 'serve',\n 'kindness',\n 'convinced',\n 'thing,',\n 'lead',\n 'point',\n '‘I’m',\n 'case',\n 'hadn’t',\n 'now,’',\n 'desire',\n 'one.',\n 'married',\n 'things',\n 'point,',\n 'circumstance',\n 'country,',\n 'shoulder,',\n 'fellows',\n 'drawing',\n 'yet,',\n 'came,',\n 'woman,',\n 'over,',\n 'mean,',\n 'believed',\n 'room.',\n 'mother,',\n 'treat',\n 'worse',\n 'Pecksniff.',\n 'agreed',\n 'trying',\n 'dear.',\n 'plain',\n 'matter.',\n 'please',\n 'friends',\n 'minute',\n 'throwing',\n 'went.',\n 'off.',\n 'knowing',\n 'Brownlow',\n 'means',\n 'Mary,',\n 'chair,',\n 'girl,',\n 'business',\n 'stairs,',\n 'long',\n '‘What',\n 'little',\n 'unusual',\n 'do.',\n 'them,',\n 'directly,',\n 'friends,',\n '\"They',\n 'master',\n 'Winkle',\n 'it,’',\n 'wholly',\n 'home,',\n 'old',\n 'bless',\n 'ourselves',\n 'opinion,',\n 'book',\n 'room,',\n \"o'clock\",\n 'subject.',\n 'young',\n 'hope,',\n '‘Is',\n 'Woodcourt',\n 'too,',\n 'attention,',\n 'experienced',\n 'till',\n 'Oliver,',\n '‘Well,’',\n 'again.’',\n '\"It\\'s',\n 'Brownlow.',\n 'failed',\n 'friend',\n 'clasping',\n 'after',\n 'wife',\n 'did,',\n 'coming',\n 'innocent',\n '‘What’s',\n \"you'll\",\n 'gate',\n 'given',\n 'secret',\n 'once',\n 'single',\n 'truth,',\n 'door.',\n 'days.',\n 'cry',\n 'part,',\n 'meet',\n 'elder',\n 'doctor',\n '‘if',\n '‘It’s',\n 'then,',\n 'Fagin.',\n '‘This',\n 'curious',\n 'natural',\n 'even',\n 'put',\n 'Pickwick;',\n 'another,',\n 'it,\"',\n 'look',\n '\"Well,\"',\n 'known',\n 'else,',\n 'quick',\n 'least,',\n '\"Are',\n 'objection',\n 'Pickwick.',\n 'excuse',\n 'ago.',\n 'Jew.',\n 'intended',\n 'haven’t',\n 'shoulder',\n 'Fagin',\n 'short,',\n 'write',\n 'kind,',\n 'know.',\n '\"What',\n 'suit',\n 'see,',\n 'matter,',\n 'lost',\n 'answer.',\n 'dead.',\n 'happened',\n 'less',\n 'to.',\n 'long,',\n 'house.',\n 'creature',\n 'you’re',\n 'money,',\n 'Richard,',\n 'yours',\n '‘When',\n '‘Yes,’',\n 'Why,',\n 'fault',\n 'straight',\n 'Bumble.',\n 'that.’',\n 'first',\n 'carry',\n 'truth.',\n 'another.',\n 'him,’',\n 'had',\n 'drink',\n 'Dombey,',\n 'least',\n 'night,',\n 'nature,',\n 'good.',\n 'noticed',\n 'except',\n '\"Then',\n 'voice.',\n 'rather',\n 'will.',\n 'smile,',\n 'am,',\n 'spirit',\n 'matter?’',\n 'aunt',\n 'Jew,',\n 'all.’',\n 'emphasis',\n 'world,',\n 'step',\n 'God',\n 'well,’',\n 'fact,',\n 'low',\n '“I',\n 'length',\n 'pressed',\n 'dinner,',\n 'fancy',\n 'weeks',\n 'great',\n 'is!',\n 'up.',\n 'another',\n 'ready',\n 'Nell',\n 'receive',\n 'Florence',\n 'proud',\n 'easy',\n 'gentleman,',\n 'subject,',\n 'My',\n 'going,',\n 'folding',\n 'mistaken',\n 'interview',\n 'until',\n 'Brass',\n 'is.',\n 'forgotten',\n 'her;',\n 'mind;',\n 'way,',\n \"it,'\",\n 'couldn’t',\n 'wished',\n 'directly.',\n 'like',\n 'servant',\n 'down,',\n 'useful',\n 'I’m',\n 'woman',\n 'Now,',\n 'eyes,',\n 'afterwards.',\n 'is!’',\n 'were.',\n 'either.',\n 'stand',\n 'life',\n 'laying',\n 'spare',\n 'hurry',\n 'persuaded',\n 'turn',\n 'inquiries',\n 'work,',\n 'sir?\"',\n 'extremely',\n 'to-day,',\n 'them.\"',\n 'wait',\n 'left',\n 'garden.',\n 'begun',\n 'ladies',\n '\"it',\n 'Pecksniff',\n 'laugh.',\n 'bag',\n 'Mary.',\n 'needn’t',\n 'sad',\n 'depend',\n \"wasn't\",\n 'Perker',\n 'preparations',\n 'to-night,',\n '\"We',\n 'look,',\n 'usual',\n 'voice',\n 'yes,',\n 'relief',\n 'settled',\n '‘Now',\n 'spoke.',\n 'end',\n 'learned',\n \"'Well,\",\n 'waiting',\n 'observing',\n 'dreadful',\n 'him.\"',\n 'Sikes,',\n 'opinion',\n 'warm',\n \"that's\",\n 'weak',\n 'breaking',\n 'assurance',\n '\"But',\n 'upon',\n 'although',\n 'on.',\n 'neither',\n 'enter',\n 'Kit',\n 'alive,',\n 'Now',\n 'Peggotty',\n 'attention.',\n 'expressly',\n 'eat',\n 'strong',\n '\"If',\n 'thoughts',\n 'more.',\n 'yourself,',\n 'life.',\n '\"Let',\n 'blind',\n 'stairs.',\n 'word.',\n 'Sawyer',\n '‘that',\n 'both',\n 'led',\n 'this',\n 'hint',\n 'times',\n 'affected',\n 'stronger',\n 'teach',\n 'Rose,',\n 'labour',\n 'course',\n \"mother's\",\n 'country',\n 'father,',\n 'serious',\n 'Jonas,',\n 'naturally',\n 'earnestness',\n 'his.',\n 'man,',\n 'half',\n '‘It',\n 'gentlemen',\n 'hands,',\n 'learn',\n 'content',\n \"'Not\",\n \"couldn't\",\n 'not,\"',\n 'person',\n 'Sikes',\n 'one,',\n 'many',\n 'prove',\n 'nice',\n 'changed',\n 'confused',\n 'passage',\n 'say,’',\n 'then',\n 'recall',\n 'Pott,',\n 'company,',\n 'Dodson',\n 'hands.',\n 'could.',\n 'name.',\n 'die',\n 'gently',\n 'present.',\n 'further',\n 'greatly',\n 'next',\n 'quietly',\n 'rest',\n 'person,',\n 'third',\n \"I'll\",\n 'lady.',\n 'can,',\n 'sure,’',\n 'Rose.',\n 'justice,',\n 'position',\n 'Carrier',\n 'send',\n 'day.',\n 'hold',\n 'become',\n 'Tackleton',\n 'minutes',\n 'fixed',\n 'right,’',\n '‘Oh!’',\n 'do;',\n 'boy.',\n 'manner,',\n 'was',\n 'hastily.',\n 'wonder',\n 'forgot',\n 'sir,\"',\n '‘Oh',\n 'paused',\n 'again;',\n 'break',\n '\"Have',\n \"'that\",\n 'journey',\n 'Oliver.',\n 'something,',\n 'You',\n 'far,',\n 'drank',\n 'child.',\n 'helpless',\n '‘Of',\n 'yours,',\n 'seek',\n 'walked',\n 'extraordinary',\n 'understanding',\n 'unexpected',\n 'set',\n 'Dodger,',\n '‘Did',\n ...]"
     },
     "metadata": {},
     "execution_count": 7
    }
   ],
   "source": [
    "word2id = the_model.word2id\n",
    "w_id = torch.tensor([word2id['love']])\n",
    "#print(word2id['jesus'])\n",
    "w = the_model.u_embeddings(w_id).squeeze()\n",
    "\n",
    "u_embeddings = the_model.u_embeddings.weight\n",
    "\n",
    "dot_prod = torch.stack([torch.dot(u,w) for u in u_embeddings])\n",
    "    \n",
    "vals, indices = torch.sort(dot_prod,descending=True)\n",
    "\n",
    "wordList = [the_model.id2word[int(i)] for i in indices]\n",
    "wordList\n"
   ]
  }
 ]
}