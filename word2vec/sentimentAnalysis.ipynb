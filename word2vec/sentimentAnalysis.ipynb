{
 "metadata": {
  "language_info": {
   "codemirror_mode": {
    "name": "ipython",
    "version": 3
   },
   "file_extension": ".py",
   "mimetype": "text/x-python",
   "name": "python",
   "nbconvert_exporter": "python",
   "pygments_lexer": "ipython3",
   "version": "3.8.5-final"
  },
  "orig_nbformat": 2,
  "kernelspec": {
   "name": "python_defaultSpec_1598255774010",
   "display_name": "Python 3.8.5 64-bit"
  }
 },
 "nbformat": 4,
 "nbformat_minor": 2,
 "cells": [
  {
   "cell_type": "code",
   "execution_count": 1,
   "metadata": {},
   "outputs": [],
   "source": [
    "import torch"
   ]
  },
  {
   "cell_type": "code",
   "execution_count": 2,
   "metadata": {},
   "outputs": [],
   "source": [
    "the_model = torch.load('../CBOW_(F)_FullyTrained.obj')\n",
    "import torch.nn.functional as F\n",
    "from torch.utils.tensorboard import SummaryWriter\n",
    "\n",
    "pos_bucket = ['excited', 'happy', 'strength', 'joy', 'inspiration'] #happy, strength\n",
    "neg_bucket = ['depressed','upset', 'hate', 'tired', 'warning', 'shock']\n",
    "neut_bucket = ['neutral', 'formal', 'professional', 'passive', 'factual']\n",
    "\n",
    "sentences =[('he lived a great life', pos_bucket),\n",
    "            ('I\\'m so sad', neg_bucket),\n",
    "            ('living life is a pleasure not known to many', pos_bucket),\n",
    "            ('I hate this', neg_bucket),\n",
    "            ('parents take care of children', neut_bucket),\n",
    "            ('the interview was neither funny nor witty', neg_bucket),\n",
    "            ('you are such a liar', neg_bucket),\n",
    "            ('youth is a celebration It\\'s about our freedom And within that freedom is our joy', pos_bucket),\n",
    "            ('there\\'s power in mental healing', pos_bucket),\n",
    "            ('wasting time is the mother of all problems', neg_bucket),\n",
    "            ('I don\\'t want to talk to you ever again', neg_bucket),\n",
    "            ('behind every successful man there is a successful woman', pos_bucket),\n",
    "            ('you should not count your chickens until they hatch', neut_bucket),\n",
    "            ('you cause problems wherever you go', neg_bucket),\n",
    "            ('you should not be joking around the office', neg_bucket),\n",
    "            ('we should come together in times of distress', pos_bucket),\n",
    "            ('where there is a will there is a way', pos_bucket),\n",
    "            ('the enemy of the state is the enemy of the country', neg_bucket),\n",
    "            ('hurricanes are dangerous to every form of life', neut_bucket),\n",
    "            ('peaceful protests are acceptable', neut_bucket),\n",
    "            ('center your mind and pursue your goals', pos_bucket),\n",
    "            ('Be a society activist for truth', pos_bucket),\n",
    "            ('the genius of a few changes the lives of many', pos_bucket),\n",
    "            ('the powerful take control of all the wealth', neg_bucket),\n",
    "            ('There are seven days in a week', neut_bucket),\n",
    "            ('India is a country in Asia', neut_bucket),\n",
    "            ('The olympic games are held every 4 years', neut_bucket),\n",
    "            ('The average lifespan is 100 years', neut_bucket),\n",
    "            ('John was found murdered in his house yesterday', neut_bucket),\n",
    "            ('The graceful steps of the gymnast won him a gold medal', pos_bucket),\n",
    "            ('People who dislike everyone and everything are just stupid', neg_bucket),\n",
    "            ('The prince got married and they lived happily ever after', pos_bucket),\n",
    "            ('Build your experience slowly and one day you will be successful', pos_bucket),\n",
    "            ('Sadly his visa expired and he was deported from the country', neg_bucket),\n",
    "            ('He cried for the whole month when he learnt about his family', neg_bucket),\n",
    "            ('Your dirty mouth will not be tolerated', neg_bucket),\n",
    "            ('Stop talking when I ask you to', neg_bucket),\n",
    "            ('The unfortunate world we live in today', neg_bucket),\n",
    "            ('His lectures are horrible even with good presentation slides', neg_bucket),\n",
    "            ('He made it in his life after years of struggle', pos_bucket),\n",
    "            ('Computers are a radical instrument of change', pos_bucket),\n",
    "            ('Chemistry is the study of molecular reactions', neut_bucket),\n",
    "            ('The sport of chess is recognized all over the world today', neut_bucket),\n",
    "            ('Some celebrities drive high performance race cars', neut_bucket),\n",
    "            ('All criminal charges will be taken seriously', neg_bucket),\n",
    "            ('Antarctica is the coldest continent on earth', neut_bucket)]\n"
   ]
  },
  {
   "cell_type": "code",
   "execution_count": 3,
   "metadata": {
    "tags": []
   },
   "outputs": [
    {
     "output_type": "stream",
     "name": "stdout",
     "text": "sentence  1 :  he lived a great life\nPredicted emotion: happy\nActual emotion(s): ['excited', 'happy', 'strength', 'joy', 'inspiration'] \n\nsentence  2 :  I'm so sad\nPredicted emotion: hate\nActual emotion(s): ['depressed', 'upset', 'hate', 'tired', 'warning', 'shock'] \n\nsentence  3 :  living life is a pleasure not known to many\nPredicted emotion: happy\nActual emotion(s): ['excited', 'happy', 'strength', 'joy', 'inspiration'] \n\nsentence  4 :  I hate this\nPredicted emotion: happy\nActual emotion(s): ['depressed', 'upset', 'hate', 'tired', 'warning', 'shock'] \n\nsentence  5 :  parents take care of children\nPredicted emotion: happy\nActual emotion(s): ['neutral', 'formal', 'professional', 'passive', 'factual'] \n\nsentence  6 :  the interview was neither funny nor witty\nPredicted emotion: joy\nActual emotion(s): ['depressed', 'upset', 'hate', 'tired', 'warning', 'shock'] \n\nsentence  7 :  you are such a liar\nPredicted emotion: happy\nActual emotion(s): ['depressed', 'upset', 'hate', 'tired', 'warning', 'shock'] \n\nsentence  8 :  youth is a celebration It's about our freedom And within that freedom is our joy\nPredicted emotion: happy\nActual emotion(s): ['excited', 'happy', 'strength', 'joy', 'inspiration'] \n\nsentence  9 :  there's power in mental healing\nPredicted emotion: strength\nActual emotion(s): ['excited', 'happy', 'strength', 'joy', 'inspiration'] \n\nsentence  10 :  wasting time is the mother of all problems\nPredicted emotion: strength\nActual emotion(s): ['depressed', 'upset', 'hate', 'tired', 'warning', 'shock'] \n\nsentence  11 :  I don't want to talk to you ever again\nPredicted emotion: happy\nActual emotion(s): ['depressed', 'upset', 'hate', 'tired', 'warning', 'shock'] \n\nsentence  12 :  behind every successful man there is a successful woman\nPredicted emotion: happy\nActual emotion(s): ['excited', 'happy', 'strength', 'joy', 'inspiration'] \n\nsentence  13 :  you should not count your chickens until they hatch\nPredicted emotion: happy\nActual emotion(s): ['neutral', 'formal', 'professional', 'passive', 'factual'] \n\nsentence  14 :  you cause problems wherever you go\nPredicted emotion: happy\nActual emotion(s): ['depressed', 'upset', 'hate', 'tired', 'warning', 'shock'] \n\nsentence  15 :  you should not be joking around the office\nPredicted emotion: happy\nActual emotion(s): ['depressed', 'upset', 'hate', 'tired', 'warning', 'shock'] \n\nsentence  16 :  we should come together in times of distress\nPredicted emotion: happy\nActual emotion(s): ['excited', 'happy', 'strength', 'joy', 'inspiration'] \n\nsentence  17 :  where there is a will there is a way\nPredicted emotion: happy\nActual emotion(s): ['excited', 'happy', 'strength', 'joy', 'inspiration'] \n\nsentence  18 :  the enemy of the state is the enemy of the country\nPredicted emotion: strength\nActual emotion(s): ['depressed', 'upset', 'hate', 'tired', 'warning', 'shock'] \n\nsentence  19 :  hurricanes are dangerous to every form of life\nPredicted emotion: happy\nActual emotion(s): ['neutral', 'formal', 'professional', 'passive', 'factual'] \n\nsentence  20 :  peaceful protests are acceptable\nPredicted emotion: neutral\nActual emotion(s): ['neutral', 'formal', 'professional', 'passive', 'factual'] \n\nsentence  21 :  center your mind and pursue your goals\nPredicted emotion: happy\nActual emotion(s): ['excited', 'happy', 'strength', 'joy', 'inspiration'] \n\nsentence  22 :  Be a society activist for truth\nPredicted emotion: happy\nActual emotion(s): ['excited', 'happy', 'strength', 'joy', 'inspiration'] \n\nsentence  23 :  the genius of a few changes the lives of many\nPredicted emotion: strength\nActual emotion(s): ['excited', 'happy', 'strength', 'joy', 'inspiration'] \n\nsentence  24 :  the powerful take control of all the wealth\nPredicted emotion: strength\nActual emotion(s): ['depressed', 'upset', 'hate', 'tired', 'warning', 'shock'] \n\nsentence  25 :  There are seven days in a week\nPredicted emotion: happy\nActual emotion(s): ['neutral', 'formal', 'professional', 'passive', 'factual'] \n\nsentence  26 :  India is a country in Asia\nPredicted emotion: strength\nActual emotion(s): ['neutral', 'formal', 'professional', 'passive', 'factual'] \n\nsentence  27 :  The olympic games are held every 4 years\nPredicted emotion: happy\nActual emotion(s): ['neutral', 'formal', 'professional', 'passive', 'factual'] \n\nsentence  28 :  The average lifespan is 100 years\nPredicted emotion: happy\nActual emotion(s): ['neutral', 'formal', 'professional', 'passive', 'factual'] \n\nsentence  29 :  John was found murdered in his house yesterday\nPredicted emotion: happy\nActual emotion(s): ['neutral', 'formal', 'professional', 'passive', 'factual'] \n\nsentence  30 :  The graceful steps of the gymnast won him a gold medal\nPredicted emotion: strength\nActual emotion(s): ['excited', 'happy', 'strength', 'joy', 'inspiration'] \n\nsentence  31 :  People who dislike everyone and everything are just stupid\nPredicted emotion: happy\nActual emotion(s): ['depressed', 'upset', 'hate', 'tired', 'warning', 'shock'] \n\nsentence  32 :  The prince got married and they lived happily ever after\nPredicted emotion: happy\nActual emotion(s): ['excited', 'happy', 'strength', 'joy', 'inspiration'] \n\nsentence  33 :  Build your experience slowly and one day you will be successful\nPredicted emotion: happy\nActual emotion(s): ['excited', 'happy', 'strength', 'joy', 'inspiration'] \n\nsentence  34 :  Sadly his visa expired and he was deported from the country\nPredicted emotion: strength\nActual emotion(s): ['depressed', 'upset', 'hate', 'tired', 'warning', 'shock'] \n\nsentence  35 :  He cried for the whole month when he learnt about his family\nPredicted emotion: happy\nActual emotion(s): ['depressed', 'upset', 'hate', 'tired', 'warning', 'shock'] \n\nsentence  36 :  Your dirty mouth will not be tolerated\nPredicted emotion: happy\nActual emotion(s): ['depressed', 'upset', 'hate', 'tired', 'warning', 'shock'] \n\nsentence  37 :  Stop talking when I ask you to\nPredicted emotion: happy\nActual emotion(s): ['depressed', 'upset', 'hate', 'tired', 'warning', 'shock'] \n\nsentence  38 :  The unfortunate world we live in today\nPredicted emotion: happy\nActual emotion(s): ['depressed', 'upset', 'hate', 'tired', 'warning', 'shock'] \n\nsentence  39 :  His lectures are horrible even with good presentation slides\nPredicted emotion: happy\nActual emotion(s): ['depressed', 'upset', 'hate', 'tired', 'warning', 'shock'] \n\nsentence  40 :  He made it in his life after years of struggle\nPredicted emotion: happy\nActual emotion(s): ['excited', 'happy', 'strength', 'joy', 'inspiration'] \n\nsentence  41 :  Computers are a radical instrument of change\nPredicted emotion: strength\nActual emotion(s): ['excited', 'happy', 'strength', 'joy', 'inspiration'] \n\nsentence  42 :  Chemistry is the study of molecular reactions\nPredicted emotion: strength\nActual emotion(s): ['neutral', 'formal', 'professional', 'passive', 'factual'] \n\nsentence  43 :  The sport of chess is recognized all over the world today\nPredicted emotion: strength\nActual emotion(s): ['neutral', 'formal', 'professional', 'passive', 'factual'] \n\nsentence  44 :  Some celebrities drive high performance race cars\nPredicted emotion: strength\nActual emotion(s): ['neutral', 'formal', 'professional', 'passive', 'factual'] \n\nsentence  45 :  All criminal charges will be taken seriously\nPredicted emotion: happy\nActual emotion(s): ['depressed', 'upset', 'hate', 'tired', 'warning', 'shock'] \n\nsentence  46 :  Antarctica is the coldest continent on earth\nPredicted emotion: depressed\nActual emotion(s): ['neutral', 'formal', 'professional', 'passive', 'factual'] \n\nAccuracy: 36.95652173913043 %\nwarning: Embedding dir exists, did you set global_step for add_embedding()?\n"
    },
    {
     "output_type": "execute_result",
     "data": {
      "text/plain": "['excited H 0 M 0',\n 'happy H 11 M 19',\n 'strength H 4 M 8',\n 'joy H 0 M 1',\n 'inspiration H 0 M 0',\n 'depressed H 0 M 1',\n 'upset H 0 M 0',\n 'hate H 1 M 0',\n 'tired H 0 M 0',\n 'warning H 0 M 0',\n 'shock H 0 M 0',\n 'neutral H 1 M 0',\n 'formal H 0 M 0',\n 'professional H 0 M 0',\n 'passive H 0 M 0']"
     },
     "metadata": {},
     "execution_count": 3
    }
   ],
   "source": [
    "writer = SummaryWriter('runs/sentimentAnalysis')\n",
    "word2id = the_model.word2id\n",
    "u_embeddings = the_model.u_embeddings\n",
    "v_embeddings = the_model.v_embeddings\n",
    "\n",
    "emo_strings = pos_bucket + neg_bucket + neut_bucket\n",
    "#expand\n",
    "emo_strings = [w for w in emo_strings if w in word2id]\n",
    "emotions = torch.tensor([word2id[w] for w in emo_strings])\n",
    "emotions = u_embeddings(emotions)\n",
    "\n",
    "correct = 0\n",
    "emo_strings_score = [[0, 0] for w in emo_strings]\n",
    "\n",
    "for i, sen in enumerate(sentences):\n",
    "    sen_arr = sen[0].split()\n",
    "    sen_arr = torch.tensor([word2id[w] for w in sen_arr if w in word2id])\n",
    "    sen_arr = v_embeddings(sen_arr)\n",
    "    sen_arr = torch.sum(sen_arr, dim=0)\n",
    "\n",
    "    #score = F.logsigmoid(torch.matmul(emotions, sen_arr.unsqueeze(1)))\n",
    "    score = torch.cdist(emotions, sen_arr.unsqueeze(0)).squeeze()\n",
    "    pred_emo = emo_strings[torch.argmin(score)] #changed\n",
    "\n",
    "    print('sentence ', str(i+1), ': ', sen[0])\n",
    "    print('Predicted emotion:', pred_emo)\n",
    "    print('Actual emotion(s):', sen[1], '\\n')\n",
    "\n",
    "    if (pred_emo in sen[1]):\n",
    "        correct += 1\n",
    "        emo_strings_score[emo_strings.index(pred_emo)][0] += 1\n",
    "    else:\n",
    "        emo_strings_score[emo_strings.index(pred_emo)][1] += 1\n",
    "\n",
    "correct /= len(sentences)\n",
    "print('Accuracy:', correct*100, '%')\n",
    "\n",
    "emo_strings = [ w + ' H ' + str(emo_strings_score[i][0]) + ' M ' + str(emo_strings_score[i][1]) for i,w in enumerate(emo_strings)]\n",
    "\n",
    "writer.add_embedding(emotions, metadata=emo_strings)\n",
    "writer.close()\n",
    "%load_ext tensorboard\n",
    "\n",
    "emo_strings"
   ]
  },
  {
   "cell_type": "code",
   "execution_count": 7,
   "metadata": {
    "tags": []
   },
   "outputs": [],
   "source": [
    "%reload_ext tensorboard"
   ]
  }
 ]
}